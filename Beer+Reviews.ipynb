{
 "cells": [
  {
   "cell_type": "markdown",
   "metadata": {},
   "source": [
    "##### Candidate Name: Dr. Gaurav Budhirja\n",
    "##### Email ID: gb.linked@gmail.com\n",
    "##### Phone: (919)-949-8170\n",
    "\n",
    "### Step 1:  Import Libraries"
   ]
  },
  {
   "cell_type": "code",
   "execution_count": 1,
   "metadata": {
    "collapsed": true
   },
   "outputs": [],
   "source": [
    "%matplotlib inline\n",
    "\n",
    "import os\n",
    "import numpy as np\n",
    "import pandas as pd\n",
    "import re\n",
    "import matplotlib.pyplot as plt\n",
    "import seaborn as sns\n",
    "\n",
    "%matplotlib inline\n",
    "sns.set(style=\"ticks\", color_codes=True)"
   ]
  },
  {
   "cell_type": "code",
   "execution_count": 2,
   "metadata": {},
   "outputs": [
    {
     "data": {
      "text/plain": [
       "'C:\\\\Users\\\\rm4n2j8\\\\Downloads\\\\beer_reviews'"
      ]
     },
     "execution_count": 2,
     "metadata": {},
     "output_type": "execute_result"
    }
   ],
   "source": [
    "os.getcwd() #To Check current workign directory"
   ]
  },
  {
   "cell_type": "code",
   "execution_count": 3,
   "metadata": {},
   "outputs": [
    {
     "data": {
      "text/plain": [
       "['.ipynb_checkpoints',\n",
       " 'Beer Reviews.ipynb',\n",
       " 'beer_reviews.csv',\n",
       " 'beer_reviews.hyper',\n",
       " 'Data Scientist Skills Assessment 3.19 Rev.pdf',\n",
       " 'load_into_postgres.sql']"
      ]
     },
     "execution_count": 3,
     "metadata": {},
     "output_type": "execute_result"
    }
   ],
   "source": [
    "os.listdir() # List all files present in the working directory."
   ]
  },
  {
   "cell_type": "markdown",
   "metadata": {},
   "source": [
    "### Step 2: Load csv file as  dataframe using pandas library in Python"
   ]
  },
  {
   "cell_type": "code",
   "execution_count": 4,
   "metadata": {},
   "outputs": [
    {
     "name": "stdout",
     "output_type": "stream",
     "text": [
      "Data Loaded Succesfully\n"
     ]
    }
   ],
   "source": [
    "filename = \"beer_reviews.csv\"\n",
    "\n",
    "try: \n",
    "    beerdf = pd.read_csv(filename, delimiter = ',', encoding='utf-8') #Load csv file as dataframe \n",
    "except: \n",
    "    print('Data Loading Failed')\n",
    "else:\n",
    "    print('Data Loaded Succesfully')"
   ]
  },
  {
   "cell_type": "markdown",
   "metadata": {},
   "source": [
    "### Step 3: Inspect Data and Clean it up (if needed)"
   ]
  },
  {
   "cell_type": "code",
   "execution_count": 5,
   "metadata": {},
   "outputs": [
    {
     "data": {
      "text/plain": [
       "(1586614, 13)"
      ]
     },
     "execution_count": 5,
     "metadata": {},
     "output_type": "execute_result"
    }
   ],
   "source": [
    "beerdf.shape  #Check the number of rows and columns"
   ]
  },
  {
   "cell_type": "code",
   "execution_count": 6,
   "metadata": {},
   "outputs": [
    {
     "data": {
      "text/plain": [
       "Index(['brewery_id', 'brewery_name', 'review_time', 'review_overall',\n",
       "       'review_aroma', 'review_appearance', 'review_profilename', 'beer_style',\n",
       "       'review_palate', 'review_taste', 'beer_name', 'beer_abv',\n",
       "       'beer_beerid'],\n",
       "      dtype='object')"
      ]
     },
     "execution_count": 6,
     "metadata": {},
     "output_type": "execute_result"
    }
   ],
   "source": [
    "beerdf.columns"
   ]
  },
  {
   "cell_type": "code",
   "execution_count": 7,
   "metadata": {},
   "outputs": [],
   "source": [
    "beerdf.rename(columns = {'beer_beerid':'beer_id'}, inplace = True) # Rename Column 'beer_beerid' as'beer_id'"
   ]
  },
  {
   "cell_type": "code",
   "execution_count": 8,
   "metadata": {},
   "outputs": [
    {
     "data": {
      "text/html": [
       "<div>\n",
       "<style>\n",
       "    .dataframe thead tr:only-child th {\n",
       "        text-align: right;\n",
       "    }\n",
       "\n",
       "    .dataframe thead th {\n",
       "        text-align: left;\n",
       "    }\n",
       "\n",
       "    .dataframe tbody tr th {\n",
       "        vertical-align: top;\n",
       "    }\n",
       "</style>\n",
       "<table border=\"1\" class=\"dataframe\">\n",
       "  <thead>\n",
       "    <tr style=\"text-align: right;\">\n",
       "      <th></th>\n",
       "      <th>brewery_id</th>\n",
       "      <th>brewery_name</th>\n",
       "      <th>review_time</th>\n",
       "      <th>review_overall</th>\n",
       "      <th>review_aroma</th>\n",
       "      <th>review_appearance</th>\n",
       "      <th>review_profilename</th>\n",
       "      <th>beer_style</th>\n",
       "      <th>review_palate</th>\n",
       "      <th>review_taste</th>\n",
       "      <th>beer_name</th>\n",
       "      <th>beer_abv</th>\n",
       "      <th>beer_id</th>\n",
       "    </tr>\n",
       "  </thead>\n",
       "  <tbody>\n",
       "    <tr>\n",
       "      <th>0</th>\n",
       "      <td>10325</td>\n",
       "      <td>Vecchio Birraio</td>\n",
       "      <td>1234817823</td>\n",
       "      <td>1.5</td>\n",
       "      <td>2.0</td>\n",
       "      <td>2.5</td>\n",
       "      <td>stcules</td>\n",
       "      <td>Hefeweizen</td>\n",
       "      <td>1.5</td>\n",
       "      <td>1.5</td>\n",
       "      <td>Sausa Weizen</td>\n",
       "      <td>5.0</td>\n",
       "      <td>47986</td>\n",
       "    </tr>\n",
       "    <tr>\n",
       "      <th>1</th>\n",
       "      <td>10325</td>\n",
       "      <td>Vecchio Birraio</td>\n",
       "      <td>1235915097</td>\n",
       "      <td>3.0</td>\n",
       "      <td>2.5</td>\n",
       "      <td>3.0</td>\n",
       "      <td>stcules</td>\n",
       "      <td>English Strong Ale</td>\n",
       "      <td>3.0</td>\n",
       "      <td>3.0</td>\n",
       "      <td>Red Moon</td>\n",
       "      <td>6.2</td>\n",
       "      <td>48213</td>\n",
       "    </tr>\n",
       "    <tr>\n",
       "      <th>2</th>\n",
       "      <td>10325</td>\n",
       "      <td>Vecchio Birraio</td>\n",
       "      <td>1235916604</td>\n",
       "      <td>3.0</td>\n",
       "      <td>2.5</td>\n",
       "      <td>3.0</td>\n",
       "      <td>stcules</td>\n",
       "      <td>Foreign / Export Stout</td>\n",
       "      <td>3.0</td>\n",
       "      <td>3.0</td>\n",
       "      <td>Black Horse Black Beer</td>\n",
       "      <td>6.5</td>\n",
       "      <td>48215</td>\n",
       "    </tr>\n",
       "    <tr>\n",
       "      <th>3</th>\n",
       "      <td>10325</td>\n",
       "      <td>Vecchio Birraio</td>\n",
       "      <td>1234725145</td>\n",
       "      <td>3.0</td>\n",
       "      <td>3.0</td>\n",
       "      <td>3.5</td>\n",
       "      <td>stcules</td>\n",
       "      <td>German Pilsener</td>\n",
       "      <td>2.5</td>\n",
       "      <td>3.0</td>\n",
       "      <td>Sausa Pils</td>\n",
       "      <td>5.0</td>\n",
       "      <td>47969</td>\n",
       "    </tr>\n",
       "    <tr>\n",
       "      <th>4</th>\n",
       "      <td>1075</td>\n",
       "      <td>Caldera Brewing Company</td>\n",
       "      <td>1293735206</td>\n",
       "      <td>4.0</td>\n",
       "      <td>4.5</td>\n",
       "      <td>4.0</td>\n",
       "      <td>johnmichaelsen</td>\n",
       "      <td>American Double / Imperial IPA</td>\n",
       "      <td>4.0</td>\n",
       "      <td>4.5</td>\n",
       "      <td>Cauldron DIPA</td>\n",
       "      <td>7.7</td>\n",
       "      <td>64883</td>\n",
       "    </tr>\n",
       "  </tbody>\n",
       "</table>\n",
       "</div>"
      ],
      "text/plain": [
       "   brewery_id             brewery_name  review_time  review_overall  \\\n",
       "0       10325          Vecchio Birraio   1234817823             1.5   \n",
       "1       10325          Vecchio Birraio   1235915097             3.0   \n",
       "2       10325          Vecchio Birraio   1235916604             3.0   \n",
       "3       10325          Vecchio Birraio   1234725145             3.0   \n",
       "4        1075  Caldera Brewing Company   1293735206             4.0   \n",
       "\n",
       "   review_aroma  review_appearance review_profilename  \\\n",
       "0           2.0                2.5            stcules   \n",
       "1           2.5                3.0            stcules   \n",
       "2           2.5                3.0            stcules   \n",
       "3           3.0                3.5            stcules   \n",
       "4           4.5                4.0     johnmichaelsen   \n",
       "\n",
       "                       beer_style  review_palate  review_taste  \\\n",
       "0                      Hefeweizen            1.5           1.5   \n",
       "1              English Strong Ale            3.0           3.0   \n",
       "2          Foreign / Export Stout            3.0           3.0   \n",
       "3                 German Pilsener            2.5           3.0   \n",
       "4  American Double / Imperial IPA            4.0           4.5   \n",
       "\n",
       "                beer_name  beer_abv  beer_id  \n",
       "0            Sausa Weizen       5.0    47986  \n",
       "1                Red Moon       6.2    48213  \n",
       "2  Black Horse Black Beer       6.5    48215  \n",
       "3              Sausa Pils       5.0    47969  \n",
       "4           Cauldron DIPA       7.7    64883  "
      ]
     },
     "execution_count": 8,
     "metadata": {},
     "output_type": "execute_result"
    }
   ],
   "source": [
    "beerdf.head()"
   ]
  },
  {
   "cell_type": "code",
   "execution_count": 9,
   "metadata": {},
   "outputs": [
    {
     "name": "stdout",
     "output_type": "stream",
     "text": [
      "<class 'pandas.core.frame.DataFrame'>\n",
      "RangeIndex: 1586614 entries, 0 to 1586613\n",
      "Data columns (total 13 columns):\n",
      "brewery_id            1586614 non-null int64\n",
      "brewery_name          1586599 non-null object\n",
      "review_time           1586614 non-null int64\n",
      "review_overall        1586614 non-null float64\n",
      "review_aroma          1586614 non-null float64\n",
      "review_appearance     1586614 non-null float64\n",
      "review_profilename    1586266 non-null object\n",
      "beer_style            1586614 non-null object\n",
      "review_palate         1586614 non-null float64\n",
      "review_taste          1586614 non-null float64\n",
      "beer_name             1586614 non-null object\n",
      "beer_abv              1518829 non-null float64\n",
      "beer_id               1586614 non-null int64\n",
      "dtypes: float64(6), int64(3), object(4)\n",
      "memory usage: 157.4+ MB\n"
     ]
    }
   ],
   "source": [
    "beerdf.info()"
   ]
  },
  {
   "cell_type": "code",
   "execution_count": 10,
   "metadata": {},
   "outputs": [
    {
     "data": {
      "text/plain": [
       "brewery_id                0\n",
       "brewery_name             15\n",
       "review_time               0\n",
       "review_overall            0\n",
       "review_aroma              0\n",
       "review_appearance         0\n",
       "review_profilename      348\n",
       "beer_style                0\n",
       "review_palate             0\n",
       "review_taste              0\n",
       "beer_name                 0\n",
       "beer_abv              67785\n",
       "beer_id                   0\n",
       "dtype: int64"
      ]
     },
     "execution_count": 10,
     "metadata": {},
     "output_type": "execute_result"
    }
   ],
   "source": [
    "beerdf.isnull().sum()"
   ]
  },
  {
   "cell_type": "markdown",
   "metadata": {},
   "source": [
    "There is missing data (NaN/ None) for following columns: 'brewery_name', 'review_profilename' and 'beer_abv'. \n",
    "Missing 'review_profilename' will be filled up using label 'unknown' or 'missing'\n",
    "Missing values 'beer_abv' (type: float) will be handled(or dropped) later as per requirement."
   ]
  },
  {
   "cell_type": "code",
   "execution_count": 11,
   "metadata": {},
   "outputs": [],
   "source": [
    "beerdf[[\"review_profilename\"]] = beerdf[[\"review_profilename\"]].fillna('unknown')"
   ]
  },
  {
   "cell_type": "code",
   "execution_count": 12,
   "metadata": {
    "collapsed": true
   },
   "outputs": [],
   "source": [
    "beerdf[[\"brewery_name\"]] = beerdf[[\"brewery_name\"]].fillna('missing')"
   ]
  },
  {
   "cell_type": "code",
   "execution_count": 13,
   "metadata": {},
   "outputs": [
    {
     "name": "stdout",
     "output_type": "stream",
     "text": [
      "<class 'pandas.core.frame.DataFrame'>\n",
      "RangeIndex: 1586614 entries, 0 to 1586613\n",
      "Data columns (total 13 columns):\n",
      "brewery_id            1586614 non-null int64\n",
      "brewery_name          1586614 non-null object\n",
      "review_time           1586614 non-null int64\n",
      "review_overall        1586614 non-null float64\n",
      "review_aroma          1586614 non-null float64\n",
      "review_appearance     1586614 non-null float64\n",
      "review_profilename    1586614 non-null object\n",
      "beer_style            1586614 non-null object\n",
      "review_palate         1586614 non-null float64\n",
      "review_taste          1586614 non-null float64\n",
      "beer_name             1586614 non-null object\n",
      "beer_abv              1518829 non-null float64\n",
      "beer_id               1586614 non-null int64\n",
      "dtypes: float64(6), int64(3), object(4)\n",
      "memory usage: 157.4+ MB\n"
     ]
    }
   ],
   "source": [
    "beerdf.info()"
   ]
  },
  {
   "cell_type": "code",
   "execution_count": 14,
   "metadata": {
    "collapsed": true
   },
   "outputs": [],
   "source": [
    "beerdf_obj = beerdf.select_dtypes(['object']) # Subset columns with datatype objects for further cleaning"
   ]
  },
  {
   "cell_type": "code",
   "execution_count": 15,
   "metadata": {},
   "outputs": [],
   "source": [
    "# beerdf.brewery_name.replace({r'[^\\x00-\\x7F]+':''}, regex = True, inplace = True) # To get rid of non-English Characters."
   ]
  },
  {
   "cell_type": "code",
   "execution_count": 16,
   "metadata": {},
   "outputs": [],
   "source": [
    "# beerdf.beer_name.replace({r'[^\\x00-\\x7F]+':''}, regex = True, inplace = True) # To get rid of Non-English Characters (if needed)."
   ]
  },
  {
   "cell_type": "code",
   "execution_count": 17,
   "metadata": {
    "collapsed": true
   },
   "outputs": [],
   "source": [
    "beerdf_obj = beerdf.select_dtypes(['object']) # Subset datatype objects for further processing."
   ]
  },
  {
   "cell_type": "code",
   "execution_count": 18,
   "metadata": {},
   "outputs": [],
   "source": [
    "beerdf[beerdf_obj.columns] = beerdf_obj.apply(lambda x: x.str.strip()) # To get rid of trailing spaces."
   ]
  },
  {
   "cell_type": "code",
   "execution_count": 19,
   "metadata": {
    "collapsed": true
   },
   "outputs": [],
   "source": [
    "beerdf = beerdf.drop_duplicates() # remove any duplicate rows if present"
   ]
  },
  {
   "cell_type": "code",
   "execution_count": 20,
   "metadata": {},
   "outputs": [
    {
     "data": {
      "text/plain": [
       "(1586614, 13)"
      ]
     },
     "execution_count": 20,
     "metadata": {},
     "output_type": "execute_result"
    }
   ],
   "source": [
    "beerdf.shape"
   ]
  },
  {
   "cell_type": "markdown",
   "metadata": {},
   "source": [
    "### Step 4:  Lets check if breweries have been assigned unique ID or not."
   ]
  },
  {
   "cell_type": "code",
   "execution_count": 21,
   "metadata": {
    "collapsed": true
   },
   "outputs": [],
   "source": [
    "subset1 = beerdf[[\"brewery_id\", \"brewery_name\"]].drop_duplicates()"
   ]
  },
  {
   "cell_type": "code",
   "execution_count": 22,
   "metadata": {},
   "outputs": [
    {
     "data": {
      "text/html": [
       "<div>\n",
       "<style>\n",
       "    .dataframe thead tr:only-child th {\n",
       "        text-align: right;\n",
       "    }\n",
       "\n",
       "    .dataframe thead th {\n",
       "        text-align: left;\n",
       "    }\n",
       "\n",
       "    .dataframe tbody tr th {\n",
       "        vertical-align: top;\n",
       "    }\n",
       "</style>\n",
       "<table border=\"1\" class=\"dataframe\">\n",
       "  <thead>\n",
       "    <tr style=\"text-align: right;\">\n",
       "      <th></th>\n",
       "      <th>brewery_id</th>\n",
       "      <th>brewery_name</th>\n",
       "    </tr>\n",
       "  </thead>\n",
       "  <tbody>\n",
       "    <tr>\n",
       "      <th>0</th>\n",
       "      <td>10325</td>\n",
       "      <td>Vecchio Birraio</td>\n",
       "    </tr>\n",
       "    <tr>\n",
       "      <th>4</th>\n",
       "      <td>1075</td>\n",
       "      <td>Caldera Brewing Company</td>\n",
       "    </tr>\n",
       "    <tr>\n",
       "      <th>10</th>\n",
       "      <td>163</td>\n",
       "      <td>Amstel Brouwerij B. V.</td>\n",
       "    </tr>\n",
       "    <tr>\n",
       "      <th>393</th>\n",
       "      <td>1454</td>\n",
       "      <td>Broad Ripple Brew Pub</td>\n",
       "    </tr>\n",
       "    <tr>\n",
       "      <th>403</th>\n",
       "      <td>850</td>\n",
       "      <td>Moon River Brewing Company</td>\n",
       "    </tr>\n",
       "  </tbody>\n",
       "</table>\n",
       "</div>"
      ],
      "text/plain": [
       "     brewery_id                brewery_name\n",
       "0         10325             Vecchio Birraio\n",
       "4          1075     Caldera Brewing Company\n",
       "10          163      Amstel Brouwerij B. V.\n",
       "393        1454       Broad Ripple Brew Pub\n",
       "403         850  Moon River Brewing Company"
      ]
     },
     "execution_count": 22,
     "metadata": {},
     "output_type": "execute_result"
    }
   ],
   "source": [
    "subset1.head() "
   ]
  },
  {
   "cell_type": "code",
   "execution_count": 23,
   "metadata": {},
   "outputs": [
    {
     "data": {
      "text/plain": [
       "(5840, 2)"
      ]
     },
     "execution_count": 23,
     "metadata": {},
     "output_type": "execute_result"
    }
   ],
   "source": [
    "subset1.shape"
   ]
  },
  {
   "cell_type": "code",
   "execution_count": 24,
   "metadata": {},
   "outputs": [
    {
     "data": {
      "text/html": [
       "<div>\n",
       "<style>\n",
       "    .dataframe thead tr:only-child th {\n",
       "        text-align: right;\n",
       "    }\n",
       "\n",
       "    .dataframe thead th {\n",
       "        text-align: left;\n",
       "    }\n",
       "\n",
       "    .dataframe tbody tr th {\n",
       "        vertical-align: top;\n",
       "    }\n",
       "</style>\n",
       "<table border=\"1\" class=\"dataframe\">\n",
       "  <thead>\n",
       "    <tr style=\"text-align: right;\">\n",
       "      <th></th>\n",
       "      <th>brewery_name</th>\n",
       "      <th>unique brewery_id count</th>\n",
       "    </tr>\n",
       "  </thead>\n",
       "  <tbody>\n",
       "    <tr>\n",
       "      <th>0</th>\n",
       "      <td>Ram Restaurant &amp; Brewery</td>\n",
       "      <td>8</td>\n",
       "    </tr>\n",
       "    <tr>\n",
       "      <th>1</th>\n",
       "      <td>Hops Grillhouse &amp; Brewery</td>\n",
       "      <td>7</td>\n",
       "    </tr>\n",
       "    <tr>\n",
       "      <th>2</th>\n",
       "      <td>Sierra Madre Brewing Co.</td>\n",
       "      <td>4</td>\n",
       "    </tr>\n",
       "    <tr>\n",
       "      <th>3</th>\n",
       "      <td>Southend Brewery &amp; Smokehouse</td>\n",
       "      <td>4</td>\n",
       "    </tr>\n",
       "    <tr>\n",
       "      <th>4</th>\n",
       "      <td>Back Street Brewery</td>\n",
       "      <td>4</td>\n",
       "    </tr>\n",
       "    <tr>\n",
       "      <th>5</th>\n",
       "      <td>Hereford &amp; Hops Restaurant &amp; Brewpub</td>\n",
       "      <td>4</td>\n",
       "    </tr>\n",
       "    <tr>\n",
       "      <th>6</th>\n",
       "      <td>BJ's Restaurant &amp; Brewery</td>\n",
       "      <td>4</td>\n",
       "    </tr>\n",
       "    <tr>\n",
       "      <th>7</th>\n",
       "      <td>Capitol City Brewing</td>\n",
       "      <td>3</td>\n",
       "    </tr>\n",
       "    <tr>\n",
       "      <th>8</th>\n",
       "      <td>BJ's Restaurant &amp; Brewhouse</td>\n",
       "      <td>3</td>\n",
       "    </tr>\n",
       "    <tr>\n",
       "      <th>9</th>\n",
       "      <td>Sweetwater Tavern &amp; Brewery</td>\n",
       "      <td>3</td>\n",
       "    </tr>\n",
       "  </tbody>\n",
       "</table>\n",
       "</div>"
      ],
      "text/plain": [
       "                           brewery_name  unique brewery_id count\n",
       "0              Ram Restaurant & Brewery                        8\n",
       "1             Hops Grillhouse & Brewery                        7\n",
       "2              Sierra Madre Brewing Co.                        4\n",
       "3         Southend Brewery & Smokehouse                        4\n",
       "4                   Back Street Brewery                        4\n",
       "5  Hereford & Hops Restaurant & Brewpub                        4\n",
       "6             BJ's Restaurant & Brewery                        4\n",
       "7                  Capitol City Brewing                        3\n",
       "8           BJ's Restaurant & Brewhouse                        3\n",
       "9           Sweetwater Tavern & Brewery                        3"
      ]
     },
     "execution_count": 24,
     "metadata": {},
     "output_type": "execute_result"
    }
   ],
   "source": [
    "subset1.groupby(['brewery_name']).brewery_id.nunique().sort_values(ascending=False).reset_index(name='unique brewery_id count').head(10)"
   ]
  },
  {
   "cell_type": "markdown",
   "metadata": {},
   "source": [
    "##### As shown in the above table, some of the breweries have been assigned more than one unique ID. Therefore, for analysis purpose we may not use brewery ID. "
   ]
  },
  {
   "cell_type": "markdown",
   "metadata": {},
   "source": [
    "### Step 5:  Lets check if beers from each breweries have been assigned unique beer_ID or not."
   ]
  },
  {
   "cell_type": "code",
   "execution_count": 25,
   "metadata": {
    "collapsed": true
   },
   "outputs": [],
   "source": [
    "subset2 = beerdf[[\"brewery_name\", \"beer_id\", \"beer_name\"]].drop_duplicates()"
   ]
  },
  {
   "cell_type": "code",
   "execution_count": 26,
   "metadata": {},
   "outputs": [
    {
     "data": {
      "text/html": [
       "<div>\n",
       "<style>\n",
       "    .dataframe thead tr:only-child th {\n",
       "        text-align: right;\n",
       "    }\n",
       "\n",
       "    .dataframe thead th {\n",
       "        text-align: left;\n",
       "    }\n",
       "\n",
       "    .dataframe tbody tr th {\n",
       "        vertical-align: top;\n",
       "    }\n",
       "</style>\n",
       "<table border=\"1\" class=\"dataframe\">\n",
       "  <thead>\n",
       "    <tr style=\"text-align: right;\">\n",
       "      <th></th>\n",
       "      <th>brewery_name</th>\n",
       "      <th>beer_id</th>\n",
       "      <th>beer_name</th>\n",
       "    </tr>\n",
       "  </thead>\n",
       "  <tbody>\n",
       "    <tr>\n",
       "      <th>0</th>\n",
       "      <td>Vecchio Birraio</td>\n",
       "      <td>47986</td>\n",
       "      <td>Sausa Weizen</td>\n",
       "    </tr>\n",
       "    <tr>\n",
       "      <th>1</th>\n",
       "      <td>Vecchio Birraio</td>\n",
       "      <td>48213</td>\n",
       "      <td>Red Moon</td>\n",
       "    </tr>\n",
       "    <tr>\n",
       "      <th>2</th>\n",
       "      <td>Vecchio Birraio</td>\n",
       "      <td>48215</td>\n",
       "      <td>Black Horse Black Beer</td>\n",
       "    </tr>\n",
       "    <tr>\n",
       "      <th>3</th>\n",
       "      <td>Vecchio Birraio</td>\n",
       "      <td>47969</td>\n",
       "      <td>Sausa Pils</td>\n",
       "    </tr>\n",
       "    <tr>\n",
       "      <th>4</th>\n",
       "      <td>Caldera Brewing Company</td>\n",
       "      <td>64883</td>\n",
       "      <td>Cauldron DIPA</td>\n",
       "    </tr>\n",
       "  </tbody>\n",
       "</table>\n",
       "</div>"
      ],
      "text/plain": [
       "              brewery_name  beer_id               beer_name\n",
       "0          Vecchio Birraio    47986            Sausa Weizen\n",
       "1          Vecchio Birraio    48213                Red Moon\n",
       "2          Vecchio Birraio    48215  Black Horse Black Beer\n",
       "3          Vecchio Birraio    47969              Sausa Pils\n",
       "4  Caldera Brewing Company    64883           Cauldron DIPA"
      ]
     },
     "execution_count": 26,
     "metadata": {},
     "output_type": "execute_result"
    }
   ],
   "source": [
    "subset2.head() "
   ]
  },
  {
   "cell_type": "code",
   "execution_count": 27,
   "metadata": {},
   "outputs": [
    {
     "data": {
      "text/plain": [
       "(66055, 3)"
      ]
     },
     "execution_count": 27,
     "metadata": {},
     "output_type": "execute_result"
    }
   ],
   "source": [
    "subset2.shape"
   ]
  },
  {
   "cell_type": "code",
   "execution_count": 28,
   "metadata": {},
   "outputs": [
    {
     "data": {
      "text/html": [
       "<div>\n",
       "<style>\n",
       "    .dataframe thead tr:only-child th {\n",
       "        text-align: right;\n",
       "    }\n",
       "\n",
       "    .dataframe thead th {\n",
       "        text-align: left;\n",
       "    }\n",
       "\n",
       "    .dataframe tbody tr th {\n",
       "        vertical-align: top;\n",
       "    }\n",
       "</style>\n",
       "<table border=\"1\" class=\"dataframe\">\n",
       "  <thead>\n",
       "    <tr style=\"text-align: right;\">\n",
       "      <th></th>\n",
       "      <th>brewery_name</th>\n",
       "      <th>beer_name</th>\n",
       "      <th>unique beer_id count</th>\n",
       "    </tr>\n",
       "  </thead>\n",
       "  <tbody>\n",
       "    <tr>\n",
       "      <th>0</th>\n",
       "      <td>Ram Restaurant &amp; Brewery</td>\n",
       "      <td>Big Red IPA</td>\n",
       "      <td>5</td>\n",
       "    </tr>\n",
       "    <tr>\n",
       "      <th>1</th>\n",
       "      <td>Hops Grillhouse &amp; Brewery</td>\n",
       "      <td>Alligator Ale</td>\n",
       "      <td>5</td>\n",
       "    </tr>\n",
       "    <tr>\n",
       "      <th>2</th>\n",
       "      <td>Ram Restaurant &amp; Brewery</td>\n",
       "      <td>Total Disorder Porter</td>\n",
       "      <td>5</td>\n",
       "    </tr>\n",
       "    <tr>\n",
       "      <th>3</th>\n",
       "      <td>Sierra Madre Brewing Co.</td>\n",
       "      <td>Chipinque</td>\n",
       "      <td>4</td>\n",
       "    </tr>\n",
       "    <tr>\n",
       "      <th>4</th>\n",
       "      <td>Ram Restaurant &amp; Brewery</td>\n",
       "      <td>Barefoot Wit</td>\n",
       "      <td>4</td>\n",
       "    </tr>\n",
       "    <tr>\n",
       "      <th>5</th>\n",
       "      <td>Ram Restaurant &amp; Brewery</td>\n",
       "      <td>71 Pale Ale</td>\n",
       "      <td>4</td>\n",
       "    </tr>\n",
       "    <tr>\n",
       "      <th>6</th>\n",
       "      <td>Ram Restaurant &amp; Brewery</td>\n",
       "      <td>Big Horn Hefeweizen</td>\n",
       "      <td>4</td>\n",
       "    </tr>\n",
       "    <tr>\n",
       "      <th>7</th>\n",
       "      <td>Sierra Madre Brewing Co.</td>\n",
       "      <td>Las Cumbres</td>\n",
       "      <td>4</td>\n",
       "    </tr>\n",
       "    <tr>\n",
       "      <th>8</th>\n",
       "      <td>Sierra Madre Brewing Co.</td>\n",
       "      <td>Fraile</td>\n",
       "      <td>4</td>\n",
       "    </tr>\n",
       "    <tr>\n",
       "      <th>9</th>\n",
       "      <td>Hereford &amp; Hops Restaurant &amp; Brewpub</td>\n",
       "      <td>Schwarzbier</td>\n",
       "      <td>4</td>\n",
       "    </tr>\n",
       "  </tbody>\n",
       "</table>\n",
       "</div>"
      ],
      "text/plain": [
       "                           brewery_name              beer_name  \\\n",
       "0              Ram Restaurant & Brewery            Big Red IPA   \n",
       "1             Hops Grillhouse & Brewery          Alligator Ale   \n",
       "2              Ram Restaurant & Brewery  Total Disorder Porter   \n",
       "3              Sierra Madre Brewing Co.              Chipinque   \n",
       "4              Ram Restaurant & Brewery           Barefoot Wit   \n",
       "5              Ram Restaurant & Brewery            71 Pale Ale   \n",
       "6              Ram Restaurant & Brewery    Big Horn Hefeweizen   \n",
       "7              Sierra Madre Brewing Co.            Las Cumbres   \n",
       "8              Sierra Madre Brewing Co.                 Fraile   \n",
       "9  Hereford & Hops Restaurant & Brewpub            Schwarzbier   \n",
       "\n",
       "   unique beer_id count  \n",
       "0                     5  \n",
       "1                     5  \n",
       "2                     5  \n",
       "3                     4  \n",
       "4                     4  \n",
       "5                     4  \n",
       "6                     4  \n",
       "7                     4  \n",
       "8                     4  \n",
       "9                     4  "
      ]
     },
     "execution_count": 28,
     "metadata": {},
     "output_type": "execute_result"
    }
   ],
   "source": [
    "subset2.groupby(['brewery_name','beer_name']).beer_id.nunique().sort_values(ascending=False).reset_index(name='unique beer_id count').head(10)"
   ]
  },
  {
   "cell_type": "markdown",
   "metadata": {},
   "source": [
    "##### Once again, as shown in the above table, some beers from the same brewery have been assigned multiple beer_IDs. Therefore, for analysis purpose we may have to drop beer_IDs as well. "
   ]
  },
  {
   "cell_type": "code",
   "execution_count": 29,
   "metadata": {},
   "outputs": [],
   "source": [
    "beerdf1 = beerdf.drop(['brewery_id', 'beer_id'], axis = 1).drop_duplicates() # Drop columns = 'brewery_id', 'beer_id' and remove duplicates"
   ]
  },
  {
   "cell_type": "code",
   "execution_count": 30,
   "metadata": {},
   "outputs": [
    {
     "data": {
      "text/html": [
       "<div>\n",
       "<style>\n",
       "    .dataframe thead tr:only-child th {\n",
       "        text-align: right;\n",
       "    }\n",
       "\n",
       "    .dataframe thead th {\n",
       "        text-align: left;\n",
       "    }\n",
       "\n",
       "    .dataframe tbody tr th {\n",
       "        vertical-align: top;\n",
       "    }\n",
       "</style>\n",
       "<table border=\"1\" class=\"dataframe\">\n",
       "  <thead>\n",
       "    <tr style=\"text-align: right;\">\n",
       "      <th></th>\n",
       "      <th>brewery_name</th>\n",
       "      <th>review_time</th>\n",
       "      <th>review_overall</th>\n",
       "      <th>review_aroma</th>\n",
       "      <th>review_appearance</th>\n",
       "      <th>review_profilename</th>\n",
       "      <th>beer_style</th>\n",
       "      <th>review_palate</th>\n",
       "      <th>review_taste</th>\n",
       "      <th>beer_name</th>\n",
       "      <th>beer_abv</th>\n",
       "    </tr>\n",
       "  </thead>\n",
       "  <tbody>\n",
       "    <tr>\n",
       "      <th>0</th>\n",
       "      <td>Vecchio Birraio</td>\n",
       "      <td>1234817823</td>\n",
       "      <td>1.5</td>\n",
       "      <td>2.0</td>\n",
       "      <td>2.5</td>\n",
       "      <td>stcules</td>\n",
       "      <td>Hefeweizen</td>\n",
       "      <td>1.5</td>\n",
       "      <td>1.5</td>\n",
       "      <td>Sausa Weizen</td>\n",
       "      <td>5.0</td>\n",
       "    </tr>\n",
       "    <tr>\n",
       "      <th>1</th>\n",
       "      <td>Vecchio Birraio</td>\n",
       "      <td>1235915097</td>\n",
       "      <td>3.0</td>\n",
       "      <td>2.5</td>\n",
       "      <td>3.0</td>\n",
       "      <td>stcules</td>\n",
       "      <td>English Strong Ale</td>\n",
       "      <td>3.0</td>\n",
       "      <td>3.0</td>\n",
       "      <td>Red Moon</td>\n",
       "      <td>6.2</td>\n",
       "    </tr>\n",
       "    <tr>\n",
       "      <th>2</th>\n",
       "      <td>Vecchio Birraio</td>\n",
       "      <td>1235916604</td>\n",
       "      <td>3.0</td>\n",
       "      <td>2.5</td>\n",
       "      <td>3.0</td>\n",
       "      <td>stcules</td>\n",
       "      <td>Foreign / Export Stout</td>\n",
       "      <td>3.0</td>\n",
       "      <td>3.0</td>\n",
       "      <td>Black Horse Black Beer</td>\n",
       "      <td>6.5</td>\n",
       "    </tr>\n",
       "    <tr>\n",
       "      <th>3</th>\n",
       "      <td>Vecchio Birraio</td>\n",
       "      <td>1234725145</td>\n",
       "      <td>3.0</td>\n",
       "      <td>3.0</td>\n",
       "      <td>3.5</td>\n",
       "      <td>stcules</td>\n",
       "      <td>German Pilsener</td>\n",
       "      <td>2.5</td>\n",
       "      <td>3.0</td>\n",
       "      <td>Sausa Pils</td>\n",
       "      <td>5.0</td>\n",
       "    </tr>\n",
       "    <tr>\n",
       "      <th>4</th>\n",
       "      <td>Caldera Brewing Company</td>\n",
       "      <td>1293735206</td>\n",
       "      <td>4.0</td>\n",
       "      <td>4.5</td>\n",
       "      <td>4.0</td>\n",
       "      <td>johnmichaelsen</td>\n",
       "      <td>American Double / Imperial IPA</td>\n",
       "      <td>4.0</td>\n",
       "      <td>4.5</td>\n",
       "      <td>Cauldron DIPA</td>\n",
       "      <td>7.7</td>\n",
       "    </tr>\n",
       "  </tbody>\n",
       "</table>\n",
       "</div>"
      ],
      "text/plain": [
       "              brewery_name  review_time  review_overall  review_aroma  \\\n",
       "0          Vecchio Birraio   1234817823             1.5           2.0   \n",
       "1          Vecchio Birraio   1235915097             3.0           2.5   \n",
       "2          Vecchio Birraio   1235916604             3.0           2.5   \n",
       "3          Vecchio Birraio   1234725145             3.0           3.0   \n",
       "4  Caldera Brewing Company   1293735206             4.0           4.5   \n",
       "\n",
       "   review_appearance review_profilename                      beer_style  \\\n",
       "0                2.5            stcules                      Hefeweizen   \n",
       "1                3.0            stcules              English Strong Ale   \n",
       "2                3.0            stcules          Foreign / Export Stout   \n",
       "3                3.5            stcules                 German Pilsener   \n",
       "4                4.0     johnmichaelsen  American Double / Imperial IPA   \n",
       "\n",
       "   review_palate  review_taste               beer_name  beer_abv  \n",
       "0            1.5           1.5            Sausa Weizen       5.0  \n",
       "1            3.0           3.0                Red Moon       6.2  \n",
       "2            3.0           3.0  Black Horse Black Beer       6.5  \n",
       "3            2.5           3.0              Sausa Pils       5.0  \n",
       "4            4.0           4.5           Cauldron DIPA       7.7  "
      ]
     },
     "execution_count": 30,
     "metadata": {},
     "output_type": "execute_result"
    }
   ],
   "source": [
    "beerdf1.head()"
   ]
  },
  {
   "cell_type": "code",
   "execution_count": 31,
   "metadata": {},
   "outputs": [
    {
     "data": {
      "text/plain": [
       "(1586614, 11)"
      ]
     },
     "execution_count": 31,
     "metadata": {},
     "output_type": "execute_result"
    }
   ],
   "source": [
    "beerdf1.shape"
   ]
  },
  {
   "cell_type": "markdown",
   "metadata": {},
   "source": [
    "### Q1: Which brewery produces the strongest beers by ABV%?"
   ]
  },
  {
   "cell_type": "code",
   "execution_count": 32,
   "metadata": {},
   "outputs": [],
   "source": [
    "Strong_ABV = beerdf1[[\"brewery_name\", \"beer_name\", \"beer_abv\"]].nlargest(10,\"beer_abv\") # Extract top 3 rows w.r.t beer_ABV values"
   ]
  },
  {
   "cell_type": "code",
   "execution_count": 33,
   "metadata": {},
   "outputs": [
    {
     "data": {
      "text/html": [
       "<div>\n",
       "<style>\n",
       "    .dataframe thead tr:only-child th {\n",
       "        text-align: right;\n",
       "    }\n",
       "\n",
       "    .dataframe thead th {\n",
       "        text-align: left;\n",
       "    }\n",
       "\n",
       "    .dataframe tbody tr th {\n",
       "        vertical-align: top;\n",
       "    }\n",
       "</style>\n",
       "<table border=\"1\" class=\"dataframe\">\n",
       "  <thead>\n",
       "    <tr style=\"text-align: right;\">\n",
       "      <th></th>\n",
       "      <th>brewery_name</th>\n",
       "      <th>beer_name</th>\n",
       "      <th>beer_abv</th>\n",
       "    </tr>\n",
       "  </thead>\n",
       "  <tbody>\n",
       "    <tr>\n",
       "      <th>12919</th>\n",
       "      <td>Schorschbräu</td>\n",
       "      <td>Schorschbräu Schorschbock 57%</td>\n",
       "      <td>57.7</td>\n",
       "    </tr>\n",
       "    <tr>\n",
       "      <th>12939</th>\n",
       "      <td>Schorschbräu</td>\n",
       "      <td>Schorschbräu Schorschbock 43%</td>\n",
       "      <td>43.0</td>\n",
       "    </tr>\n",
       "    <tr>\n",
       "      <th>12940</th>\n",
       "      <td>Schorschbräu</td>\n",
       "      <td>Schorschbräu Schorschbock 43%</td>\n",
       "      <td>43.0</td>\n",
       "    </tr>\n",
       "    <tr>\n",
       "      <th>746310</th>\n",
       "      <td>BrewDog</td>\n",
       "      <td>Sink The Bismarck!</td>\n",
       "      <td>41.0</td>\n",
       "    </tr>\n",
       "    <tr>\n",
       "      <th>746311</th>\n",
       "      <td>BrewDog</td>\n",
       "      <td>Sink The Bismarck!</td>\n",
       "      <td>41.0</td>\n",
       "    </tr>\n",
       "    <tr>\n",
       "      <th>746319</th>\n",
       "      <td>BrewDog</td>\n",
       "      <td>Sink The Bismarck!</td>\n",
       "      <td>41.0</td>\n",
       "    </tr>\n",
       "    <tr>\n",
       "      <th>746343</th>\n",
       "      <td>BrewDog</td>\n",
       "      <td>Sink The Bismarck!</td>\n",
       "      <td>41.0</td>\n",
       "    </tr>\n",
       "    <tr>\n",
       "      <th>746344</th>\n",
       "      <td>BrewDog</td>\n",
       "      <td>Sink The Bismarck!</td>\n",
       "      <td>41.0</td>\n",
       "    </tr>\n",
       "    <tr>\n",
       "      <th>746345</th>\n",
       "      <td>BrewDog</td>\n",
       "      <td>Sink The Bismarck!</td>\n",
       "      <td>41.0</td>\n",
       "    </tr>\n",
       "    <tr>\n",
       "      <th>746346</th>\n",
       "      <td>BrewDog</td>\n",
       "      <td>Sink The Bismarck!</td>\n",
       "      <td>41.0</td>\n",
       "    </tr>\n",
       "  </tbody>\n",
       "</table>\n",
       "</div>"
      ],
      "text/plain": [
       "        brewery_name                      beer_name  beer_abv\n",
       "12919   Schorschbräu  Schorschbräu Schorschbock 57%      57.7\n",
       "12939   Schorschbräu  Schorschbräu Schorschbock 43%      43.0\n",
       "12940   Schorschbräu  Schorschbräu Schorschbock 43%      43.0\n",
       "746310       BrewDog             Sink The Bismarck!      41.0\n",
       "746311       BrewDog             Sink The Bismarck!      41.0\n",
       "746319       BrewDog             Sink The Bismarck!      41.0\n",
       "746343       BrewDog             Sink The Bismarck!      41.0\n",
       "746344       BrewDog             Sink The Bismarck!      41.0\n",
       "746345       BrewDog             Sink The Bismarck!      41.0\n",
       "746346       BrewDog             Sink The Bismarck!      41.0"
      ]
     },
     "execution_count": 33,
     "metadata": {},
     "output_type": "execute_result"
    }
   ],
   "source": [
    "Strong_ABV"
   ]
  },
  {
   "cell_type": "code",
   "execution_count": 34,
   "metadata": {},
   "outputs": [
    {
     "data": {
      "image/png": "[encoded data removed]",
      "text/plain": [
       "<matplotlib.figure.Figure at 0x22539353da0>"
      ]
     },
     "metadata": {},
     "output_type": "display_data"
    }
   ],
   "source": [
    "beerdf1[[\"beer_abv\"]].hist()\n",
    "plt.xlabel('beer_abv %')\n",
    "plt.ylabel('Frequency')\n",
    "plt.title('NUmbers of Beers w.r.t to beer_abv %')\n",
    "plt.show()"
   ]
  },
  {
   "cell_type": "code",
   "execution_count": 35,
   "metadata": {},
   "outputs": [
    {
     "name": "stdout",
     "output_type": "stream",
     "text": [
      "Schorschbräu produces the strongest beer with 57.7% ABV.\n"
     ]
    }
   ],
   "source": [
    "print(str(Strong_ABV.iloc[0,0]) + ' produces the strongest beer with ' +str(Strong_ABV.iloc[0,2])  +'% ABV.')"
   ]
  },
  {
   "cell_type": "markdown",
   "metadata": {},
   "source": []
  },
  {
   "cell_type": "markdown",
   "metadata": {
    "collapsed": true
   },
   "source": [
    "### Step 6: Perform Exploratory Data Analysis"
   ]
  },
  {
   "cell_type": "code",
   "execution_count": 36,
   "metadata": {},
   "outputs": [
    {
     "data": {
      "text/html": [
       "<div>\n",
       "<style>\n",
       "    .dataframe thead tr:only-child th {\n",
       "        text-align: right;\n",
       "    }\n",
       "\n",
       "    .dataframe thead th {\n",
       "        text-align: left;\n",
       "    }\n",
       "\n",
       "    .dataframe tbody tr th {\n",
       "        vertical-align: top;\n",
       "    }\n",
       "</style>\n",
       "<table border=\"1\" class=\"dataframe\">\n",
       "  <thead>\n",
       "    <tr style=\"text-align: right;\">\n",
       "      <th></th>\n",
       "      <th>review_time</th>\n",
       "      <th>review_overall</th>\n",
       "      <th>review_aroma</th>\n",
       "      <th>review_appearance</th>\n",
       "      <th>review_palate</th>\n",
       "      <th>review_taste</th>\n",
       "      <th>beer_abv</th>\n",
       "    </tr>\n",
       "  </thead>\n",
       "  <tbody>\n",
       "    <tr>\n",
       "      <th>count</th>\n",
       "      <td>1.586614e+06</td>\n",
       "      <td>1586614.00</td>\n",
       "      <td>1586614.00</td>\n",
       "      <td>1586614.00</td>\n",
       "      <td>1586614.00</td>\n",
       "      <td>1586614.00</td>\n",
       "      <td>1518829.00</td>\n",
       "    </tr>\n",
       "    <tr>\n",
       "      <th>mean</th>\n",
       "      <td>1.224089e+09</td>\n",
       "      <td>3.82</td>\n",
       "      <td>3.74</td>\n",
       "      <td>3.84</td>\n",
       "      <td>3.74</td>\n",
       "      <td>3.79</td>\n",
       "      <td>7.04</td>\n",
       "    </tr>\n",
       "    <tr>\n",
       "      <th>std</th>\n",
       "      <td>7.654427e+07</td>\n",
       "      <td>0.72</td>\n",
       "      <td>0.70</td>\n",
       "      <td>0.62</td>\n",
       "      <td>0.68</td>\n",
       "      <td>0.73</td>\n",
       "      <td>2.32</td>\n",
       "    </tr>\n",
       "    <tr>\n",
       "      <th>min</th>\n",
       "      <td>8.406720e+08</td>\n",
       "      <td>0.00</td>\n",
       "      <td>1.00</td>\n",
       "      <td>0.00</td>\n",
       "      <td>1.00</td>\n",
       "      <td>1.00</td>\n",
       "      <td>0.01</td>\n",
       "    </tr>\n",
       "    <tr>\n",
       "      <th>25%</th>\n",
       "      <td>1.173224e+09</td>\n",
       "      <td>3.50</td>\n",
       "      <td>3.50</td>\n",
       "      <td>3.50</td>\n",
       "      <td>3.50</td>\n",
       "      <td>3.50</td>\n",
       "      <td>5.20</td>\n",
       "    </tr>\n",
       "    <tr>\n",
       "      <th>50%</th>\n",
       "      <td>1.239203e+09</td>\n",
       "      <td>4.00</td>\n",
       "      <td>4.00</td>\n",
       "      <td>4.00</td>\n",
       "      <td>4.00</td>\n",
       "      <td>4.00</td>\n",
       "      <td>6.50</td>\n",
       "    </tr>\n",
       "    <tr>\n",
       "      <th>75%</th>\n",
       "      <td>1.288568e+09</td>\n",
       "      <td>4.50</td>\n",
       "      <td>4.00</td>\n",
       "      <td>4.00</td>\n",
       "      <td>4.00</td>\n",
       "      <td>4.50</td>\n",
       "      <td>8.50</td>\n",
       "    </tr>\n",
       "    <tr>\n",
       "      <th>max</th>\n",
       "      <td>1.326285e+09</td>\n",
       "      <td>5.00</td>\n",
       "      <td>5.00</td>\n",
       "      <td>5.00</td>\n",
       "      <td>5.00</td>\n",
       "      <td>5.00</td>\n",
       "      <td>57.70</td>\n",
       "    </tr>\n",
       "  </tbody>\n",
       "</table>\n",
       "</div>"
      ],
      "text/plain": [
       "        review_time  review_overall  review_aroma  review_appearance  \\\n",
       "count  1.586614e+06      1586614.00    1586614.00         1586614.00   \n",
       "mean   1.224089e+09            3.82          3.74               3.84   \n",
       "std    7.654427e+07            0.72          0.70               0.62   \n",
       "min    8.406720e+08            0.00          1.00               0.00   \n",
       "25%    1.173224e+09            3.50          3.50               3.50   \n",
       "50%    1.239203e+09            4.00          4.00               4.00   \n",
       "75%    1.288568e+09            4.50          4.00               4.00   \n",
       "max    1.326285e+09            5.00          5.00               5.00   \n",
       "\n",
       "       review_palate  review_taste    beer_abv  \n",
       "count     1586614.00    1586614.00  1518829.00  \n",
       "mean            3.74          3.79        7.04  \n",
       "std             0.68          0.73        2.32  \n",
       "min             1.00          1.00        0.01  \n",
       "25%             3.50          3.50        5.20  \n",
       "50%             4.00          4.00        6.50  \n",
       "75%             4.00          4.50        8.50  \n",
       "max             5.00          5.00       57.70  "
      ]
     },
     "execution_count": 36,
     "metadata": {},
     "output_type": "execute_result"
    }
   ],
   "source": [
    "beerdf1.describe().round(2) # To take a look at Statistical Summary"
   ]
  },
  {
   "cell_type": "markdown",
   "metadata": {},
   "source": [
    "Based on summary statistics, all reviews lie between 1 and 5. "
   ]
  },
  {
   "cell_type": "code",
   "execution_count": 37,
   "metadata": {},
   "outputs": [
    {
     "data": {
      "text/plain": [
       "90 Minute IPA                          3290\n",
       "India Pale Ale                         3130\n",
       "Old Rasputin Russian Imperial Stout    3111\n",
       "Sierra Nevada Celebration Ale          3000\n",
       "Two Hearted Ale                        2728\n",
       "Name: beer_name, dtype: int64"
      ]
     },
     "execution_count": 37,
     "metadata": {},
     "output_type": "execute_result"
    }
   ],
   "source": [
    "beerdf1['beer_name'].value_counts().head() "
   ]
  },
  {
   "cell_type": "code",
   "execution_count": 38,
   "metadata": {},
   "outputs": [
    {
     "data": {
      "text/plain": [
       "Pyraser Kellerbier                        1\n",
       "Br&#257;lis Gaiais (Br&#257;lis Pale)    1\n",
       "Besty                                     1\n",
       "Stuft Pizza Honey Blonde                  1\n",
       "Augustus Amber Ale                        1\n",
       "Name: beer_name, dtype: int64"
      ]
     },
     "execution_count": 38,
     "metadata": {},
     "output_type": "execute_result"
    }
   ],
   "source": [
    "beerdf1['beer_name'].value_counts().tail()"
   ]
  },
  {
   "cell_type": "markdown",
   "metadata": {},
   "source": [
    "## No of review per beer varies from 1 to 3290"
   ]
  },
  {
   "cell_type": "code",
   "execution_count": 39,
   "metadata": {},
   "outputs": [
    {
     "data": {
      "image/png": "[encoded data removed]",
      "text/plain": [
       "<matplotlib.figure.Figure at 0x22539948d30>"
      ]
     },
     "metadata": {},
     "output_type": "display_data"
    }
   ],
   "source": [
    "beerdf1['beer_name'].value_counts(ascending = False)[1:20].sort_values(ascending=True).plot(kind='barh')\n",
    "plt.xlabel('No of Reviews')\n",
    "plt.ylabel('Beer Name')\n",
    "plt.title('Most reviewed Beers (Top 20)')\n",
    "plt.show()"
   ]
  },
  {
   "cell_type": "code",
   "execution_count": 40,
   "metadata": {},
   "outputs": [
    {
     "data": {
      "image/png": "[encoded data removed]",
      "text/plain": [
       "<matplotlib.figure.Figure at 0x2253936b208>"
      ]
     },
     "metadata": {},
     "output_type": "display_data"
    }
   ],
   "source": [
    "hist = beerdf1[[\"beer_abv\", \"review_aroma\", \"review_appearance\", \"review_palate\", \"review_taste\", \"review_overall\"]].hist()"
   ]
  },
  {
   "cell_type": "code",
   "execution_count": 41,
   "metadata": {},
   "outputs": [],
   "source": [
    "beerdf2 = beerdf1[[\"review_aroma\", \"review_appearance\", \"review_palate\", \"review_taste\", \"review_overall\"]]"
   ]
  },
  {
   "cell_type": "code",
   "execution_count": 42,
   "metadata": {},
   "outputs": [
    {
     "data": {
      "image/png": "[encoded data removed]",
      "text/plain": [
       "<matplotlib.figure.Figure at 0x2253a7e1550>"
      ]
     },
     "metadata": {},
     "output_type": "display_data"
    }
   ],
   "source": [
    "pairplot = sns.pairplot(beerdf2)"
   ]
  },
  {
   "cell_type": "markdown",
   "metadata": {},
   "source": [
    "### Q3:  If you had to pick 3 beers to recommend using only this data, which would you pick?"
   ]
  },
  {
   "cell_type": "markdown",
   "metadata": {},
   "source": [
    "##### Let's start by  looking at the  list of beers mean overall raiting of each bear (in the descending order). "
   ]
  },
  {
   "cell_type": "code",
   "execution_count": 43,
   "metadata": {},
   "outputs": [
    {
     "data": {
      "text/plain": [
       "beer_name\n",
       "Belgian Country Pale Ale    5.0\n",
       "Edsten Triple-Wit           5.0\n",
       "Empire Berliner Weisse      5.0\n",
       "Name: review_overall, dtype: float64"
      ]
     },
     "execution_count": 43,
     "metadata": {},
     "output_type": "execute_result"
    }
   ],
   "source": [
    "beerdf1.groupby('beer_name')['review_overall'].mean().sort_values(ascending=False).head(3) # Top five rows only. "
   ]
  },
  {
   "cell_type": "markdown",
   "metadata": {},
   "source": [
    "##### Problem with the above stats is that even beer with one review (5 star rating) can make to this list. Therefore, it can be misleading. Let's now plot the total number of reviews  for each beer."
   ]
  },
  {
   "cell_type": "code",
   "execution_count": 44,
   "metadata": {},
   "outputs": [
    {
     "data": {
      "text/plain": [
       "90 Minute IPA                          3290\n",
       "India Pale Ale                         3130\n",
       "Old Rasputin Russian Imperial Stout    3111\n",
       "Sierra Nevada Celebration Ale          3000\n",
       "Two Hearted Ale                        2728\n",
       "Name: beer_name, dtype: int64"
      ]
     },
     "execution_count": 44,
     "metadata": {},
     "output_type": "execute_result"
    }
   ],
   "source": [
    "beerdf1['beer_name'].value_counts().head()"
   ]
  },
  {
   "cell_type": "markdown",
   "metadata": {},
   "source": [
    "##### There is a good probability that good beers normally receive more number of reviews as well as higher ratings. Now we know that both the average review per beer and the number of ratings per beer are important attributes. Let's create a new dataframe that contains both of these attributes."
   ]
  },
  {
   "cell_type": "code",
   "execution_count": 45,
   "metadata": {
    "collapsed": true
   },
   "outputs": [],
   "source": [
    "mean_overall_review_df = pd.DataFrame(beerdf1.groupby('beer_name')['review_overall'].mean())"
   ]
  },
  {
   "cell_type": "code",
   "execution_count": 46,
   "metadata": {
    "collapsed": true
   },
   "outputs": [],
   "source": [
    "mean_overall_review_df['review_counts'] = pd.DataFrame(beerdf1.groupby('beer_name')['review_overall'].count())"
   ]
  },
  {
   "cell_type": "code",
   "execution_count": 47,
   "metadata": {},
   "outputs": [],
   "source": [
    "mean_overall_review_df.rename(columns = {'review_overall':'mean_review_overall'}, inplace = True)"
   ]
  },
  {
   "cell_type": "code",
   "execution_count": 48,
   "metadata": {},
   "outputs": [
    {
     "data": {
      "text/html": [
       "<div>\n",
       "<style>\n",
       "    .dataframe thead tr:only-child th {\n",
       "        text-align: right;\n",
       "    }\n",
       "\n",
       "    .dataframe thead th {\n",
       "        text-align: left;\n",
       "    }\n",
       "\n",
       "    .dataframe tbody tr th {\n",
       "        vertical-align: top;\n",
       "    }\n",
       "</style>\n",
       "<table border=\"1\" class=\"dataframe\">\n",
       "  <thead>\n",
       "    <tr style=\"text-align: right;\">\n",
       "      <th></th>\n",
       "      <th>mean_review_overall</th>\n",
       "      <th>review_counts</th>\n",
       "    </tr>\n",
       "    <tr>\n",
       "      <th>beer_name</th>\n",
       "      <th></th>\n",
       "      <th></th>\n",
       "    </tr>\n",
       "  </thead>\n",
       "  <tbody>\n",
       "    <tr>\n",
       "      <th>! (Old Ale)</th>\n",
       "      <td>4.0</td>\n",
       "      <td>1</td>\n",
       "    </tr>\n",
       "    <tr>\n",
       "      <th>\"100\"</th>\n",
       "      <td>4.0</td>\n",
       "      <td>5</td>\n",
       "    </tr>\n",
       "    <tr>\n",
       "      <th>\"100\" Pale Ale</th>\n",
       "      <td>4.0</td>\n",
       "      <td>1</td>\n",
       "    </tr>\n",
       "    <tr>\n",
       "      <th>\"12\"  Belgian Golden Strong Ale</th>\n",
       "      <td>4.0</td>\n",
       "      <td>2</td>\n",
       "    </tr>\n",
       "    <tr>\n",
       "      <th>\"33\" Export</th>\n",
       "      <td>3.0</td>\n",
       "      <td>3</td>\n",
       "    </tr>\n",
       "  </tbody>\n",
       "</table>\n",
       "</div>"
      ],
      "text/plain": [
       "                                 mean_review_overall  review_counts\n",
       "beer_name                                                          \n",
       "! (Old Ale)                                      4.0              1\n",
       "\"100\"                                            4.0              5\n",
       "\"100\" Pale Ale                                   4.0              1\n",
       "\"12\"  Belgian Golden Strong Ale                  4.0              2\n",
       "\"33\" Export                                      3.0              3"
      ]
     },
     "execution_count": 48,
     "metadata": {},
     "output_type": "execute_result"
    }
   ],
   "source": [
    "mean_overall_review_df.head()"
   ]
  },
  {
   "cell_type": "markdown",
   "metadata": {},
   "source": [
    "##### Now , above table displays the beer name along with the average rating and number of ratings for each beer. Now Let's plot a histogram for the number of ratings represented by the \"rreview_counts\" column in the above dataframe."
   ]
  },
  {
   "cell_type": "code",
   "execution_count": 49,
   "metadata": {},
   "outputs": [
    {
     "data": {
      "image/png": "[encoded data removed]",
      "text/plain": [
       "<matplotlib.figure.Figure at 0x2253a854780>"
      ]
     },
     "metadata": {},
     "output_type": "display_data"
    }
   ],
   "source": [
    "mean_overall_review_df['review_counts'].hist(bins=10)\n",
    "plt.xlabel('Number of Reviews')\n",
    "plt.ylabel('Frequency')\n",
    "plt.title('Number of Reviews/Beer')\n",
    "plt.show()"
   ]
  },
  {
   "cell_type": "markdown",
   "metadata": {},
   "source": [
    "##### From the histogram shown above, you can see that majority of the beers have received less than 300 (approx.) reviews. While the number of beers having more than 650 reviews is very low. Now, let's plot a histogram for average ratings."
   ]
  },
  {
   "cell_type": "code",
   "execution_count": 50,
   "metadata": {},
   "outputs": [
    {
     "data": {
      "image/png": "[encoded data removed]",
      "text/plain": [
       "<matplotlib.figure.Figure at 0x2253b2d9668>"
      ]
     },
     "metadata": {},
     "output_type": "display_data"
    }
   ],
   "source": [
    "mean_overall_review_df['mean_review_overall'].hist(bins=50)\n",
    "plt.xlabel('Mean_Overall_Review')\n",
    "plt.ylabel('Frequency')\n",
    "plt.title('Distribution of Average Raiting')\n",
    "plt.show()"
   ]
  },
  {
   "cell_type": "markdown",
   "metadata": {},
   "source": [
    "##### In the plot shown above, the integer values have taller bars than the floating values since most of the users assign rating as integer value i.e. 1, 2, 3, 4 or 5. Furthermore, it is evident that the data has a weak normal distribution with the mean of around 3.5. There are a few outliers in the data. Now, lets plot Mean_Overall_Review against the number of reviews"
   ]
  },
  {
   "cell_type": "code",
   "execution_count": 51,
   "metadata": {},
   "outputs": [
    {
     "data": {
      "text/plain": [
       "<seaborn.axisgrid.JointGrid at 0x22501efa048>"
      ]
     },
     "execution_count": 51,
     "metadata": {},
     "output_type": "execute_result"
    },
    {
     "data": {
      "image/png": "[encoded data removed]",
      "text/plain": [
       "<matplotlib.figure.Figure at 0x22501d98828>"
      ]
     },
     "metadata": {},
     "output_type": "display_data"
    }
   ],
   "source": [
    "sns.jointplot(x='mean_review_overall', y='review_counts', data=mean_overall_review_df, alpha=0.4)"
   ]
  },
  {
   "cell_type": "markdown",
   "metadata": {},
   "source": [
    "##### The plot shows that, beer with higher overall reviews  have more number of reviews, compared with beers that have lower mean overall_review. Now lets build a  recommendation system using matrix factorization. For that purpose,  pick a beer that is highly reviewd and mean rated value above 4.5"
   ]
  },
  {
   "cell_type": "code",
   "execution_count": 52,
   "metadata": {},
   "outputs": [
    {
     "data": {
      "text/html": [
       "<div>\n",
       "<style>\n",
       "    .dataframe thead tr:only-child th {\n",
       "        text-align: right;\n",
       "    }\n",
       "\n",
       "    .dataframe thead th {\n",
       "        text-align: left;\n",
       "    }\n",
       "\n",
       "    .dataframe tbody tr th {\n",
       "        vertical-align: top;\n",
       "    }\n",
       "</style>\n",
       "<table border=\"1\" class=\"dataframe\">\n",
       "  <thead>\n",
       "    <tr style=\"text-align: right;\">\n",
       "      <th></th>\n",
       "      <th>mean_review_overall</th>\n",
       "      <th>review_counts</th>\n",
       "    </tr>\n",
       "    <tr>\n",
       "      <th>beer_name</th>\n",
       "      <th></th>\n",
       "      <th></th>\n",
       "    </tr>\n",
       "  </thead>\n",
       "  <tbody>\n",
       "    <tr>\n",
       "      <th>! (Old Ale)</th>\n",
       "      <td>4.000000</td>\n",
       "      <td>1</td>\n",
       "    </tr>\n",
       "    <tr>\n",
       "      <th>\"100\"</th>\n",
       "      <td>4.000000</td>\n",
       "      <td>5</td>\n",
       "    </tr>\n",
       "    <tr>\n",
       "      <th>\"100\" Pale Ale</th>\n",
       "      <td>4.000000</td>\n",
       "      <td>1</td>\n",
       "    </tr>\n",
       "    <tr>\n",
       "      <th>\"12\"  Belgian Golden Strong Ale</th>\n",
       "      <td>4.000000</td>\n",
       "      <td>2</td>\n",
       "    </tr>\n",
       "    <tr>\n",
       "      <th>\"33\" Export</th>\n",
       "      <td>3.000000</td>\n",
       "      <td>3</td>\n",
       "    </tr>\n",
       "    <tr>\n",
       "      <th>\"4\" Horse Oatmeal Stout</th>\n",
       "      <td>4.000000</td>\n",
       "      <td>2</td>\n",
       "    </tr>\n",
       "    <tr>\n",
       "      <th>\"400\" Ale</th>\n",
       "      <td>3.333333</td>\n",
       "      <td>18</td>\n",
       "    </tr>\n",
       "    <tr>\n",
       "      <th>\"50\" Golden Anniversary Lager</th>\n",
       "      <td>4.000000</td>\n",
       "      <td>1</td>\n",
       "    </tr>\n",
       "    <tr>\n",
       "      <th>\"76\" Anniversary Ale</th>\n",
       "      <td>4.000000</td>\n",
       "      <td>3</td>\n",
       "    </tr>\n",
       "    <tr>\n",
       "      <th>\"76\" Anniversary Ale With English Hops</th>\n",
       "      <td>4.000000</td>\n",
       "      <td>1</td>\n",
       "    </tr>\n",
       "    <tr>\n",
       "      <th>\"Alt\"ered State</th>\n",
       "      <td>3.500000</td>\n",
       "      <td>2</td>\n",
       "    </tr>\n",
       "    <tr>\n",
       "      <th>\"Best Of Both Worlds\" Stout</th>\n",
       "      <td>5.000000</td>\n",
       "      <td>1</td>\n",
       "    </tr>\n",
       "    <tr>\n",
       "      <th>\"Cellar Reserve\" Triple Gold</th>\n",
       "      <td>4.000000</td>\n",
       "      <td>1</td>\n",
       "    </tr>\n",
       "    <tr>\n",
       "      <th>\"Certifiably\" Blonde Ale</th>\n",
       "      <td>2.500000</td>\n",
       "      <td>1</td>\n",
       "    </tr>\n",
       "    <tr>\n",
       "      <th>\"Check-Mate\" Cask Pilsner</th>\n",
       "      <td>3.500000</td>\n",
       "      <td>1</td>\n",
       "    </tr>\n",
       "    <tr>\n",
       "      <th>\"Double Wrecked Wreck\" IPA</th>\n",
       "      <td>4.000000</td>\n",
       "      <td>2</td>\n",
       "    </tr>\n",
       "    <tr>\n",
       "      <th>\"Fade To Black\" Porter</th>\n",
       "      <td>4.000000</td>\n",
       "      <td>1</td>\n",
       "    </tr>\n",
       "    <tr>\n",
       "      <th>\"Great Satchmo\" Stout</th>\n",
       "      <td>4.000000</td>\n",
       "      <td>1</td>\n",
       "    </tr>\n",
       "    <tr>\n",
       "      <th>\"Hop Obama\" Ale</th>\n",
       "      <td>4.160714</td>\n",
       "      <td>28</td>\n",
       "    </tr>\n",
       "    <tr>\n",
       "      <th>\"Jessica &amp; Brendan's\" Bridal Ale</th>\n",
       "      <td>2.916667</td>\n",
       "      <td>6</td>\n",
       "    </tr>\n",
       "    <tr>\n",
       "      <th>\"Just One More\" Scotch Ale</th>\n",
       "      <td>3.625000</td>\n",
       "      <td>4</td>\n",
       "    </tr>\n",
       "    <tr>\n",
       "      <th>\"Little John's Myth\" Robust Porter</th>\n",
       "      <td>4.250000</td>\n",
       "      <td>2</td>\n",
       "    </tr>\n",
       "    <tr>\n",
       "      <th>\"M\"</th>\n",
       "      <td>4.000000</td>\n",
       "      <td>1</td>\n",
       "    </tr>\n",
       "    <tr>\n",
       "      <th>\"M\"-perial Stout</th>\n",
       "      <td>3.000000</td>\n",
       "      <td>1</td>\n",
       "    </tr>\n",
       "    <tr>\n",
       "      <th>\"Marnie\" Gras Carnival Ale</th>\n",
       "      <td>3.833333</td>\n",
       "      <td>3</td>\n",
       "    </tr>\n",
       "    <tr>\n",
       "      <th>\"Naughty Scot\" Scotch Ale</th>\n",
       "      <td>4.000000</td>\n",
       "      <td>4</td>\n",
       "    </tr>\n",
       "    <tr>\n",
       "      <th>\"Nein Toll Bier\" German Alt</th>\n",
       "      <td>4.000000</td>\n",
       "      <td>1</td>\n",
       "    </tr>\n",
       "    <tr>\n",
       "      <th>\"Not Guilty\" 1924 Deer Brand</th>\n",
       "      <td>4.071429</td>\n",
       "      <td>7</td>\n",
       "    </tr>\n",
       "    <tr>\n",
       "      <th>\"Not Your Bock\" Maibock</th>\n",
       "      <td>4.500000</td>\n",
       "      <td>1</td>\n",
       "    </tr>\n",
       "    <tr>\n",
       "      <th>\"O Smokey Night\"</th>\n",
       "      <td>3.500000</td>\n",
       "      <td>1</td>\n",
       "    </tr>\n",
       "    <tr>\n",
       "      <th>...</th>\n",
       "      <td>...</td>\n",
       "      <td>...</td>\n",
       "    </tr>\n",
       "    <tr>\n",
       "      <th>Ørsted BeerDog</th>\n",
       "      <td>4.000000</td>\n",
       "      <td>2</td>\n",
       "    </tr>\n",
       "    <tr>\n",
       "      <th>Ørsted Gold</th>\n",
       "      <td>3.250000</td>\n",
       "      <td>2</td>\n",
       "    </tr>\n",
       "    <tr>\n",
       "      <th>Úlfur</th>\n",
       "      <td>4.333333</td>\n",
       "      <td>3</td>\n",
       "    </tr>\n",
       "    <tr>\n",
       "      <th>Über Alt</th>\n",
       "      <td>4.166667</td>\n",
       "      <td>15</td>\n",
       "    </tr>\n",
       "    <tr>\n",
       "      <th>Über Blonde</th>\n",
       "      <td>4.500000</td>\n",
       "      <td>1</td>\n",
       "    </tr>\n",
       "    <tr>\n",
       "      <th>Über Düber Pilsner</th>\n",
       "      <td>4.000000</td>\n",
       "      <td>1</td>\n",
       "    </tr>\n",
       "    <tr>\n",
       "      <th>Über Frog</th>\n",
       "      <td>3.500000</td>\n",
       "      <td>1</td>\n",
       "    </tr>\n",
       "    <tr>\n",
       "      <th>Über Oktolager</th>\n",
       "      <td>3.666667</td>\n",
       "      <td>3</td>\n",
       "    </tr>\n",
       "    <tr>\n",
       "      <th>Über Pils</th>\n",
       "      <td>4.057018</td>\n",
       "      <td>228</td>\n",
       "    </tr>\n",
       "    <tr>\n",
       "      <th>Über Pilsner</th>\n",
       "      <td>4.000000</td>\n",
       "      <td>1</td>\n",
       "    </tr>\n",
       "    <tr>\n",
       "      <th>Über Schwarz</th>\n",
       "      <td>4.000000</td>\n",
       "      <td>1</td>\n",
       "    </tr>\n",
       "    <tr>\n",
       "      <th>Über Special Bitter</th>\n",
       "      <td>4.000000</td>\n",
       "      <td>4</td>\n",
       "    </tr>\n",
       "    <tr>\n",
       "      <th>Über Weisse</th>\n",
       "      <td>3.687500</td>\n",
       "      <td>16</td>\n",
       "    </tr>\n",
       "    <tr>\n",
       "      <th>ÜberFest Pilsner</th>\n",
       "      <td>4.000000</td>\n",
       "      <td>4</td>\n",
       "    </tr>\n",
       "    <tr>\n",
       "      <th>ÜberSun (Imperial Summer Wheat Beer)</th>\n",
       "      <td>4.060086</td>\n",
       "      <td>233</td>\n",
       "    </tr>\n",
       "    <tr>\n",
       "      <th>Überschwein (Unfiltered Double Dry Hopped Hog Heaven)</th>\n",
       "      <td>3.625000</td>\n",
       "      <td>12</td>\n",
       "    </tr>\n",
       "    <tr>\n",
       "      <th>Þorrabjór</th>\n",
       "      <td>3.000000</td>\n",
       "      <td>1</td>\n",
       "    </tr>\n",
       "    <tr>\n",
       "      <th>à L'Agave Et Au Citron Vert</th>\n",
       "      <td>2.500000</td>\n",
       "      <td>2</td>\n",
       "    </tr>\n",
       "    <tr>\n",
       "      <th>überPils</th>\n",
       "      <td>3.857143</td>\n",
       "      <td>7</td>\n",
       "    </tr>\n",
       "    <tr>\n",
       "      <th>Černá Hora Modrá Luna</th>\n",
       "      <td>2.500000</td>\n",
       "      <td>1</td>\n",
       "    </tr>\n",
       "    <tr>\n",
       "      <th>Łask Žywe Niefiltrowane</th>\n",
       "      <td>3.000000</td>\n",
       "      <td>1</td>\n",
       "    </tr>\n",
       "    <tr>\n",
       "      <th>Łomża Niepasteryzowana</th>\n",
       "      <td>3.500000</td>\n",
       "      <td>1</td>\n",
       "    </tr>\n",
       "    <tr>\n",
       "      <th>Świąteczne</th>\n",
       "      <td>2.000000</td>\n",
       "      <td>1</td>\n",
       "    </tr>\n",
       "    <tr>\n",
       "      <th>Švyturys Nefiltruotas Raw</th>\n",
       "      <td>3.000000</td>\n",
       "      <td>3</td>\n",
       "    </tr>\n",
       "    <tr>\n",
       "      <th>Žamberecký Kanec 14°</th>\n",
       "      <td>3.500000</td>\n",
       "      <td>1</td>\n",
       "    </tr>\n",
       "    <tr>\n",
       "      <th>Žamberecký Kanec Imperial Stout</th>\n",
       "      <td>3.750000</td>\n",
       "      <td>2</td>\n",
       "    </tr>\n",
       "    <tr>\n",
       "      <th>Ω-naught (Omeganaught)</th>\n",
       "      <td>4.166667</td>\n",
       "      <td>3</td>\n",
       "    </tr>\n",
       "    <tr>\n",
       "      <th>“Chewy” Double IPA</th>\n",
       "      <td>2.500000</td>\n",
       "      <td>1</td>\n",
       "    </tr>\n",
       "    <tr>\n",
       "      <th>横須賀ビアサケ (Yokosuka Biasake)</th>\n",
       "      <td>4.000000</td>\n",
       "      <td>1</td>\n",
       "    </tr>\n",
       "    <tr>\n",
       "      <th>葉山ビール (Hayama Beer)</th>\n",
       "      <td>4.000000</td>\n",
       "      <td>1</td>\n",
       "    </tr>\n",
       "  </tbody>\n",
       "</table>\n",
       "<p>56857 rows × 2 columns</p>\n",
       "</div>"
      ],
      "text/plain": [
       "                                                    mean_review_overall  \\\n",
       "beer_name                                                                 \n",
       "! (Old Ale)                                                    4.000000   \n",
       "\"100\"                                                          4.000000   \n",
       "\"100\" Pale Ale                                                 4.000000   \n",
       "\"12\"  Belgian Golden Strong Ale                                4.000000   \n",
       "\"33\" Export                                                    3.000000   \n",
       "\"4\" Horse Oatmeal Stout                                        4.000000   \n",
       "\"400\" Ale                                                      3.333333   \n",
       "\"50\" Golden Anniversary Lager                                  4.000000   \n",
       "\"76\" Anniversary Ale                                           4.000000   \n",
       "\"76\" Anniversary Ale With English Hops                         4.000000   \n",
       "\"Alt\"ered State                                                3.500000   \n",
       "\"Best Of Both Worlds\" Stout                                    5.000000   \n",
       "\"Cellar Reserve\" Triple Gold                                   4.000000   \n",
       "\"Certifiably\" Blonde Ale                                       2.500000   \n",
       "\"Check-Mate\" Cask Pilsner                                      3.500000   \n",
       "\"Double Wrecked Wreck\" IPA                                     4.000000   \n",
       "\"Fade To Black\" Porter                                         4.000000   \n",
       "\"Great Satchmo\" Stout                                          4.000000   \n",
       "\"Hop Obama\" Ale                                                4.160714   \n",
       "\"Jessica & Brendan's\" Bridal Ale                               2.916667   \n",
       "\"Just One More\" Scotch Ale                                     3.625000   \n",
       "\"Little John's Myth\" Robust Porter                             4.250000   \n",
       "\"M\"                                                            4.000000   \n",
       "\"M\"-perial Stout                                               3.000000   \n",
       "\"Marnie\" Gras Carnival Ale                                     3.833333   \n",
       "\"Naughty Scot\" Scotch Ale                                      4.000000   \n",
       "\"Nein Toll Bier\" German Alt                                    4.000000   \n",
       "\"Not Guilty\" 1924 Deer Brand                                   4.071429   \n",
       "\"Not Your Bock\" Maibock                                        4.500000   \n",
       "\"O Smokey Night\"                                               3.500000   \n",
       "...                                                                 ...   \n",
       "Ørsted BeerDog                                                 4.000000   \n",
       "Ørsted Gold                                                    3.250000   \n",
       "Úlfur                                                          4.333333   \n",
       "Über Alt                                                       4.166667   \n",
       "Über Blonde                                                    4.500000   \n",
       "Über Düber Pilsner                                             4.000000   \n",
       "Über Frog                                                      3.500000   \n",
       "Über Oktolager                                                 3.666667   \n",
       "Über Pils                                                      4.057018   \n",
       "Über Pilsner                                                   4.000000   \n",
       "Über Schwarz                                                   4.000000   \n",
       "Über Special Bitter                                            4.000000   \n",
       "Über Weisse                                                    3.687500   \n",
       "ÜberFest Pilsner                                               4.000000   \n",
       "ÜberSun (Imperial Summer Wheat Beer)                           4.060086   \n",
       "Überschwein (Unfiltered Double Dry Hopped Hog H...             3.625000   \n",
       "Þorrabjór                                                      3.000000   \n",
       "à L'Agave Et Au Citron Vert                                    2.500000   \n",
       "überPils                                                       3.857143   \n",
       "Černá Hora Modrá Luna                                          2.500000   \n",
       "Łask Žywe Niefiltrowane                                        3.000000   \n",
       "Łomża Niepasteryzowana                                         3.500000   \n",
       "Świąteczne                                                     2.000000   \n",
       "Švyturys Nefiltruotas Raw                                      3.000000   \n",
       "Žamberecký Kanec 14°                                          3.500000   \n",
       "Žamberecký Kanec Imperial Stout                               3.750000   \n",
       "Ω-naught (Omeganaught)                                         4.166667   \n",
       "“Chewy” Double IPA                                             2.500000   \n",
       "横須賀ビアサケ (Yokosuka Biasake)                                     4.000000   \n",
       "葉山ビール (Hayama Beer)                                            4.000000   \n",
       "\n",
       "                                                    review_counts  \n",
       "beer_name                                                          \n",
       "! (Old Ale)                                                     1  \n",
       "\"100\"                                                           5  \n",
       "\"100\" Pale Ale                                                  1  \n",
       "\"12\"  Belgian Golden Strong Ale                                 2  \n",
       "\"33\" Export                                                     3  \n",
       "\"4\" Horse Oatmeal Stout                                         2  \n",
       "\"400\" Ale                                                      18  \n",
       "\"50\" Golden Anniversary Lager                                   1  \n",
       "\"76\" Anniversary Ale                                            3  \n",
       "\"76\" Anniversary Ale With English Hops                          1  \n",
       "\"Alt\"ered State                                                 2  \n",
       "\"Best Of Both Worlds\" Stout                                     1  \n",
       "\"Cellar Reserve\" Triple Gold                                    1  \n",
       "\"Certifiably\" Blonde Ale                                        1  \n",
       "\"Check-Mate\" Cask Pilsner                                       1  \n",
       "\"Double Wrecked Wreck\" IPA                                      2  \n",
       "\"Fade To Black\" Porter                                          1  \n",
       "\"Great Satchmo\" Stout                                           1  \n",
       "\"Hop Obama\" Ale                                                28  \n",
       "\"Jessica & Brendan's\" Bridal Ale                                6  \n",
       "\"Just One More\" Scotch Ale                                      4  \n",
       "\"Little John's Myth\" Robust Porter                              2  \n",
       "\"M\"                                                             1  \n",
       "\"M\"-perial Stout                                                1  \n",
       "\"Marnie\" Gras Carnival Ale                                      3  \n",
       "\"Naughty Scot\" Scotch Ale                                       4  \n",
       "\"Nein Toll Bier\" German Alt                                     1  \n",
       "\"Not Guilty\" 1924 Deer Brand                                    7  \n",
       "\"Not Your Bock\" Maibock                                         1  \n",
       "\"O Smokey Night\"                                                1  \n",
       "...                                                           ...  \n",
       "Ørsted BeerDog                                                  2  \n",
       "Ørsted Gold                                                     2  \n",
       "Úlfur                                                           3  \n",
       "Über Alt                                                       15  \n",
       "Über Blonde                                                     1  \n",
       "Über Düber Pilsner                                              1  \n",
       "Über Frog                                                       1  \n",
       "Über Oktolager                                                  3  \n",
       "Über Pils                                                     228  \n",
       "Über Pilsner                                                    1  \n",
       "Über Schwarz                                                    1  \n",
       "Über Special Bitter                                             4  \n",
       "Über Weisse                                                    16  \n",
       "ÜberFest Pilsner                                                4  \n",
       "ÜberSun (Imperial Summer Wheat Beer)                          233  \n",
       "Überschwein (Unfiltered Double Dry Hopped Hog H...             12  \n",
       "Þorrabjór                                                       1  \n",
       "à L'Agave Et Au Citron Vert                                     2  \n",
       "überPils                                                        7  \n",
       "Černá Hora Modrá Luna                                           1  \n",
       "Łask Žywe Niefiltrowane                                         1  \n",
       "Łomża Niepasteryzowana                                          1  \n",
       "Świąteczne                                                      1  \n",
       "Švyturys Nefiltruotas Raw                                       3  \n",
       "Žamberecký Kanec 14°                                           1  \n",
       "Žamberecký Kanec Imperial Stout                                2  \n",
       "Ω-naught (Omeganaught)                                          3  \n",
       "“Chewy” Double IPA                                              1  \n",
       "横須賀ビアサケ (Yokosuka Biasake)                                      1  \n",
       "葉山ビール (Hayama Beer)                                             1  \n",
       "\n",
       "[56857 rows x 2 columns]"
      ]
     },
     "execution_count": 52,
     "metadata": {},
     "output_type": "execute_result"
    }
   ],
   "source": [
    "mean_overall_review_df"
   ]
  },
  {
   "cell_type": "code",
   "execution_count": 53,
   "metadata": {},
   "outputs": [
    {
     "data": {
      "text/html": [
       "<div>\n",
       "<style>\n",
       "    .dataframe thead tr:only-child th {\n",
       "        text-align: right;\n",
       "    }\n",
       "\n",
       "    .dataframe thead th {\n",
       "        text-align: left;\n",
       "    }\n",
       "\n",
       "    .dataframe tbody tr th {\n",
       "        vertical-align: top;\n",
       "    }\n",
       "</style>\n",
       "<table border=\"1\" class=\"dataframe\">\n",
       "  <thead>\n",
       "    <tr style=\"text-align: right;\">\n",
       "      <th></th>\n",
       "      <th>mean_review_overall</th>\n",
       "      <th>review_counts</th>\n",
       "    </tr>\n",
       "    <tr>\n",
       "      <th>beer_name</th>\n",
       "      <th></th>\n",
       "      <th></th>\n",
       "    </tr>\n",
       "  </thead>\n",
       "  <tbody>\n",
       "    <tr>\n",
       "      <th>Pliny The Elder</th>\n",
       "      <td>4.590028</td>\n",
       "      <td>2527</td>\n",
       "    </tr>\n",
       "    <tr>\n",
       "      <th>Weihenstephaner Hefeweissbier</th>\n",
       "      <td>4.515901</td>\n",
       "      <td>1981</td>\n",
       "    </tr>\n",
       "    <tr>\n",
       "      <th>Trappist Westvleteren 12</th>\n",
       "      <td>4.617925</td>\n",
       "      <td>1272</td>\n",
       "    </tr>\n",
       "    <tr>\n",
       "      <th>Trappist Westvleteren 8</th>\n",
       "      <td>4.514144</td>\n",
       "      <td>707</td>\n",
       "    </tr>\n",
       "    <tr>\n",
       "      <th>Founders CBS Imperial Stout</th>\n",
       "      <td>4.591052</td>\n",
       "      <td>637</td>\n",
       "    </tr>\n",
       "  </tbody>\n",
       "</table>\n",
       "</div>"
      ],
      "text/plain": [
       "                               mean_review_overall  review_counts\n",
       "beer_name                                                        \n",
       "Pliny The Elder                           4.590028           2527\n",
       "Weihenstephaner Hefeweissbier             4.515901           1981\n",
       "Trappist Westvleteren 12                  4.617925           1272\n",
       "Trappist Westvleteren 8                   4.514144            707\n",
       "Founders CBS Imperial Stout               4.591052            637"
      ]
     },
     "execution_count": 53,
     "metadata": {},
     "output_type": "execute_result"
    }
   ],
   "source": [
    "mean_overall_review_df[(mean_overall_review_df['review_counts']>300) & (mean_overall_review_df['mean_review_overall'] >=4.5)].sort_values('review_counts', ascending=False).head()"
   ]
  },
  {
   "cell_type": "markdown",
   "metadata": {},
   "source": [
    "### Lets Pick Beer 'Pliny The Elder' ( Highly reviewed: 2527 reviews and mean overall rating of approx 4.6)"
   ]
  },
  {
   "cell_type": "code",
   "execution_count": 54,
   "metadata": {
    "collapsed": true
   },
   "outputs": [],
   "source": [
    "## Take sum of all reviews and subset beerdf1 to select only revelant columns"
   ]
  },
  {
   "cell_type": "code",
   "execution_count": 55,
   "metadata": {
    "collapsed": true
   },
   "outputs": [],
   "source": [
    "beerdf1['sum_reviews'] = beerdf1.review_overall + beerdf1.review_aroma + beerdf1.review_appearance + beerdf1.review_palate + beerdf1.review_taste"
   ]
  },
  {
   "cell_type": "code",
   "execution_count": 56,
   "metadata": {},
   "outputs": [],
   "source": [
    "beerdf2 = beerdf2 = beerdf1[[\"review_profilename\", \"beer_name\", \"sum_reviews\"]]"
   ]
  },
  {
   "cell_type": "code",
   "execution_count": 57,
   "metadata": {},
   "outputs": [
    {
     "data": {
      "text/html": [
       "<div>\n",
       "<style>\n",
       "    .dataframe thead tr:only-child th {\n",
       "        text-align: right;\n",
       "    }\n",
       "\n",
       "    .dataframe thead th {\n",
       "        text-align: left;\n",
       "    }\n",
       "\n",
       "    .dataframe tbody tr th {\n",
       "        vertical-align: top;\n",
       "    }\n",
       "</style>\n",
       "<table border=\"1\" class=\"dataframe\">\n",
       "  <thead>\n",
       "    <tr style=\"text-align: right;\">\n",
       "      <th></th>\n",
       "      <th>review_profilename</th>\n",
       "      <th>beer_name</th>\n",
       "      <th>sum_reviews</th>\n",
       "    </tr>\n",
       "  </thead>\n",
       "  <tbody>\n",
       "    <tr>\n",
       "      <th>0</th>\n",
       "      <td>stcules</td>\n",
       "      <td>Sausa Weizen</td>\n",
       "      <td>9.0</td>\n",
       "    </tr>\n",
       "    <tr>\n",
       "      <th>1</th>\n",
       "      <td>stcules</td>\n",
       "      <td>Red Moon</td>\n",
       "      <td>14.5</td>\n",
       "    </tr>\n",
       "    <tr>\n",
       "      <th>2</th>\n",
       "      <td>stcules</td>\n",
       "      <td>Black Horse Black Beer</td>\n",
       "      <td>14.5</td>\n",
       "    </tr>\n",
       "    <tr>\n",
       "      <th>3</th>\n",
       "      <td>stcules</td>\n",
       "      <td>Sausa Pils</td>\n",
       "      <td>15.0</td>\n",
       "    </tr>\n",
       "    <tr>\n",
       "      <th>4</th>\n",
       "      <td>johnmichaelsen</td>\n",
       "      <td>Cauldron DIPA</td>\n",
       "      <td>21.0</td>\n",
       "    </tr>\n",
       "  </tbody>\n",
       "</table>\n",
       "</div>"
      ],
      "text/plain": [
       "  review_profilename               beer_name  sum_reviews\n",
       "0            stcules            Sausa Weizen          9.0\n",
       "1            stcules                Red Moon         14.5\n",
       "2            stcules  Black Horse Black Beer         14.5\n",
       "3            stcules              Sausa Pils         15.0\n",
       "4     johnmichaelsen           Cauldron DIPA         21.0"
      ]
     },
     "execution_count": 57,
     "metadata": {},
     "output_type": "execute_result"
    }
   ],
   "source": [
    "beerdf2.head()"
   ]
  },
  {
   "cell_type": "markdown",
   "metadata": {},
   "source": [
    "#### To create the matrix of beers and corresponding aggregated reviews, execute the following script:"
   ]
  },
  {
   "cell_type": "code",
   "execution_count": 58,
   "metadata": {
    "collapsed": true
   },
   "outputs": [],
   "source": [
    "beerdf2_pivot = beerdf2.pivot_table(index=['review_profilename'], columns=['beer_name'], values='sum_reviews')"
   ]
  },
  {
   "cell_type": "code",
   "execution_count": 59,
   "metadata": {},
   "outputs": [
    {
     "data": {
      "text/html": [
       "<div>\n",
       "<style>\n",
       "    .dataframe thead tr:only-child th {\n",
       "        text-align: right;\n",
       "    }\n",
       "\n",
       "    .dataframe thead th {\n",
       "        text-align: left;\n",
       "    }\n",
       "\n",
       "    .dataframe tbody tr th {\n",
       "        vertical-align: top;\n",
       "    }\n",
       "</style>\n",
       "<table border=\"1\" class=\"dataframe\">\n",
       "  <thead>\n",
       "    <tr style=\"text-align: right;\">\n",
       "      <th>beer_name</th>\n",
       "      <th>! (Old Ale)</th>\n",
       "      <th>\"100\"</th>\n",
       "      <th>\"100\" Pale Ale</th>\n",
       "      <th>\"12\"  Belgian Golden Strong Ale</th>\n",
       "      <th>\"33\" Export</th>\n",
       "      <th>\"4\" Horse Oatmeal Stout</th>\n",
       "      <th>\"400\" Ale</th>\n",
       "      <th>\"50\" Golden Anniversary Lager</th>\n",
       "      <th>\"76\" Anniversary Ale</th>\n",
       "      <th>\"76\" Anniversary Ale With English Hops</th>\n",
       "      <th>...</th>\n",
       "      <th>Łask Žywe Niefiltrowane</th>\n",
       "      <th>Łomża Niepasteryzowana</th>\n",
       "      <th>Świąteczne</th>\n",
       "      <th>Švyturys Nefiltruotas Raw</th>\n",
       "      <th>Žamberecký Kanec 14°</th>\n",
       "      <th>Žamberecký Kanec Imperial Stout</th>\n",
       "      <th>Ω-naught (Omeganaught)</th>\n",
       "      <th>“Chewy” Double IPA</th>\n",
       "      <th>横須賀ビアサケ (Yokosuka Biasake)</th>\n",
       "      <th>葉山ビール (Hayama Beer)</th>\n",
       "    </tr>\n",
       "    <tr>\n",
       "      <th>review_profilename</th>\n",
       "      <th></th>\n",
       "      <th></th>\n",
       "      <th></th>\n",
       "      <th></th>\n",
       "      <th></th>\n",
       "      <th></th>\n",
       "      <th></th>\n",
       "      <th></th>\n",
       "      <th></th>\n",
       "      <th></th>\n",
       "      <th></th>\n",
       "      <th></th>\n",
       "      <th></th>\n",
       "      <th></th>\n",
       "      <th></th>\n",
       "      <th></th>\n",
       "      <th></th>\n",
       "      <th></th>\n",
       "      <th></th>\n",
       "      <th></th>\n",
       "      <th></th>\n",
       "    </tr>\n",
       "  </thead>\n",
       "  <tbody>\n",
       "    <tr>\n",
       "      <th>0110x011</th>\n",
       "      <td>NaN</td>\n",
       "      <td>NaN</td>\n",
       "      <td>NaN</td>\n",
       "      <td>NaN</td>\n",
       "      <td>NaN</td>\n",
       "      <td>NaN</td>\n",
       "      <td>NaN</td>\n",
       "      <td>NaN</td>\n",
       "      <td>NaN</td>\n",
       "      <td>NaN</td>\n",
       "      <td>...</td>\n",
       "      <td>NaN</td>\n",
       "      <td>NaN</td>\n",
       "      <td>NaN</td>\n",
       "      <td>NaN</td>\n",
       "      <td>NaN</td>\n",
       "      <td>NaN</td>\n",
       "      <td>NaN</td>\n",
       "      <td>NaN</td>\n",
       "      <td>NaN</td>\n",
       "      <td>NaN</td>\n",
       "    </tr>\n",
       "    <tr>\n",
       "      <th>01Ryan10</th>\n",
       "      <td>NaN</td>\n",
       "      <td>NaN</td>\n",
       "      <td>NaN</td>\n",
       "      <td>NaN</td>\n",
       "      <td>NaN</td>\n",
       "      <td>NaN</td>\n",
       "      <td>NaN</td>\n",
       "      <td>NaN</td>\n",
       "      <td>NaN</td>\n",
       "      <td>NaN</td>\n",
       "      <td>...</td>\n",
       "      <td>NaN</td>\n",
       "      <td>NaN</td>\n",
       "      <td>NaN</td>\n",
       "      <td>NaN</td>\n",
       "      <td>NaN</td>\n",
       "      <td>NaN</td>\n",
       "      <td>NaN</td>\n",
       "      <td>NaN</td>\n",
       "      <td>NaN</td>\n",
       "      <td>NaN</td>\n",
       "    </tr>\n",
       "    <tr>\n",
       "      <th>02maxima</th>\n",
       "      <td>NaN</td>\n",
       "      <td>NaN</td>\n",
       "      <td>NaN</td>\n",
       "      <td>NaN</td>\n",
       "      <td>NaN</td>\n",
       "      <td>NaN</td>\n",
       "      <td>NaN</td>\n",
       "      <td>NaN</td>\n",
       "      <td>NaN</td>\n",
       "      <td>NaN</td>\n",
       "      <td>...</td>\n",
       "      <td>NaN</td>\n",
       "      <td>NaN</td>\n",
       "      <td>NaN</td>\n",
       "      <td>NaN</td>\n",
       "      <td>NaN</td>\n",
       "      <td>NaN</td>\n",
       "      <td>NaN</td>\n",
       "      <td>NaN</td>\n",
       "      <td>NaN</td>\n",
       "      <td>NaN</td>\n",
       "    </tr>\n",
       "    <tr>\n",
       "      <th>03SVTCobra</th>\n",
       "      <td>NaN</td>\n",
       "      <td>NaN</td>\n",
       "      <td>NaN</td>\n",
       "      <td>NaN</td>\n",
       "      <td>NaN</td>\n",
       "      <td>NaN</td>\n",
       "      <td>NaN</td>\n",
       "      <td>NaN</td>\n",
       "      <td>NaN</td>\n",
       "      <td>NaN</td>\n",
       "      <td>...</td>\n",
       "      <td>NaN</td>\n",
       "      <td>NaN</td>\n",
       "      <td>NaN</td>\n",
       "      <td>NaN</td>\n",
       "      <td>NaN</td>\n",
       "      <td>NaN</td>\n",
       "      <td>NaN</td>\n",
       "      <td>NaN</td>\n",
       "      <td>NaN</td>\n",
       "      <td>NaN</td>\n",
       "    </tr>\n",
       "    <tr>\n",
       "      <th>04101Brewer</th>\n",
       "      <td>NaN</td>\n",
       "      <td>NaN</td>\n",
       "      <td>NaN</td>\n",
       "      <td>NaN</td>\n",
       "      <td>NaN</td>\n",
       "      <td>NaN</td>\n",
       "      <td>NaN</td>\n",
       "      <td>NaN</td>\n",
       "      <td>NaN</td>\n",
       "      <td>NaN</td>\n",
       "      <td>...</td>\n",
       "      <td>NaN</td>\n",
       "      <td>NaN</td>\n",
       "      <td>NaN</td>\n",
       "      <td>NaN</td>\n",
       "      <td>NaN</td>\n",
       "      <td>NaN</td>\n",
       "      <td>NaN</td>\n",
       "      <td>NaN</td>\n",
       "      <td>NaN</td>\n",
       "      <td>NaN</td>\n",
       "    </tr>\n",
       "  </tbody>\n",
       "</table>\n",
       "<p>5 rows × 56857 columns</p>\n",
       "</div>"
      ],
      "text/plain": [
       "beer_name           ! (Old Ale)  \"100\"  \"100\" Pale Ale  \\\n",
       "review_profilename                                       \n",
       "0110x011                    NaN    NaN             NaN   \n",
       "01Ryan10                    NaN    NaN             NaN   \n",
       "02maxima                    NaN    NaN             NaN   \n",
       "03SVTCobra                  NaN    NaN             NaN   \n",
       "04101Brewer                 NaN    NaN             NaN   \n",
       "\n",
       "beer_name           \"12\"  Belgian Golden Strong Ale  \"33\" Export  \\\n",
       "review_profilename                                                 \n",
       "0110x011                                        NaN          NaN   \n",
       "01Ryan10                                        NaN          NaN   \n",
       "02maxima                                        NaN          NaN   \n",
       "03SVTCobra                                      NaN          NaN   \n",
       "04101Brewer                                     NaN          NaN   \n",
       "\n",
       "beer_name           \"4\" Horse Oatmeal Stout  \"400\" Ale  \\\n",
       "review_profilename                                       \n",
       "0110x011                                NaN        NaN   \n",
       "01Ryan10                                NaN        NaN   \n",
       "02maxima                                NaN        NaN   \n",
       "03SVTCobra                              NaN        NaN   \n",
       "04101Brewer                             NaN        NaN   \n",
       "\n",
       "beer_name           \"50\" Golden Anniversary Lager  \"76\" Anniversary Ale  \\\n",
       "review_profilename                                                        \n",
       "0110x011                                      NaN                   NaN   \n",
       "01Ryan10                                      NaN                   NaN   \n",
       "02maxima                                      NaN                   NaN   \n",
       "03SVTCobra                                    NaN                   NaN   \n",
       "04101Brewer                                   NaN                   NaN   \n",
       "\n",
       "beer_name           \"76\" Anniversary Ale With English Hops  \\\n",
       "review_profilename                                           \n",
       "0110x011                                               NaN   \n",
       "01Ryan10                                               NaN   \n",
       "02maxima                                               NaN   \n",
       "03SVTCobra                                             NaN   \n",
       "04101Brewer                                            NaN   \n",
       "\n",
       "beer_name                  ...           Łask Žywe Niefiltrowane  \\\n",
       "review_profilename         ...                                     \n",
       "0110x011                   ...                               NaN   \n",
       "01Ryan10                   ...                               NaN   \n",
       "02maxima                   ...                               NaN   \n",
       "03SVTCobra                 ...                               NaN   \n",
       "04101Brewer                ...                               NaN   \n",
       "\n",
       "beer_name           Łomża Niepasteryzowana  Świąteczne  \\\n",
       "review_profilename                                       \n",
       "0110x011                               NaN         NaN   \n",
       "01Ryan10                               NaN         NaN   \n",
       "02maxima                               NaN         NaN   \n",
       "03SVTCobra                             NaN         NaN   \n",
       "04101Brewer                            NaN         NaN   \n",
       "\n",
       "beer_name           Švyturys Nefiltruotas Raw  Žamberecký Kanec 14°  \\\n",
       "review_profilename                                                     \n",
       "0110x011                                  NaN                    NaN   \n",
       "01Ryan10                                  NaN                    NaN   \n",
       "02maxima                                  NaN                    NaN   \n",
       "03SVTCobra                                NaN                    NaN   \n",
       "04101Brewer                               NaN                    NaN   \n",
       "\n",
       "beer_name           Žamberecký Kanec Imperial Stout  Ω-naught (Omeganaught)  \\\n",
       "review_profilename                                                             \n",
       "0110x011                                         NaN                     NaN   \n",
       "01Ryan10                                         NaN                     NaN   \n",
       "02maxima                                         NaN                     NaN   \n",
       "03SVTCobra                                       NaN                     NaN   \n",
       "04101Brewer                                      NaN                     NaN   \n",
       "\n",
       "beer_name           “Chewy” Double IPA  横須賀ビアサケ (Yokosuka Biasake)  \\\n",
       "review_profilename                                                   \n",
       "0110x011                           NaN                         NaN   \n",
       "01Ryan10                           NaN                         NaN   \n",
       "02maxima                           NaN                         NaN   \n",
       "03SVTCobra                         NaN                         NaN   \n",
       "04101Brewer                        NaN                         NaN   \n",
       "\n",
       "beer_name           葉山ビール (Hayama Beer)  \n",
       "review_profilename                       \n",
       "0110x011                            NaN  \n",
       "01Ryan10                            NaN  \n",
       "02maxima                            NaN  \n",
       "03SVTCobra                          NaN  \n",
       "04101Brewer                         NaN  \n",
       "\n",
       "[5 rows x 56857 columns]"
      ]
     },
     "execution_count": 59,
     "metadata": {},
     "output_type": "execute_result"
    }
   ],
   "source": [
    "beerdf2_pivot.head()"
   ]
  },
  {
   "cell_type": "code",
   "execution_count": 60,
   "metadata": {
    "collapsed": true
   },
   "outputs": [],
   "source": [
    "Pliny_Elder_reviews = beerdf2_pivot['Pliny The Elder']"
   ]
  },
  {
   "cell_type": "code",
   "execution_count": 61,
   "metadata": {},
   "outputs": [
    {
     "data": {
      "text/plain": [
       "review_profilename\n",
       "0110x011       24.0\n",
       "01Ryan10        NaN\n",
       "02maxima        NaN\n",
       "03SVTCobra      NaN\n",
       "04101Brewer     NaN\n",
       "Name: Pliny The Elder, dtype: float64"
      ]
     },
     "execution_count": 61,
     "metadata": {},
     "output_type": "execute_result"
    }
   ],
   "source": [
    "Pliny_Elder_reviews.head()"
   ]
  },
  {
   "cell_type": "code",
   "execution_count": 62,
   "metadata": {
    "collapsed": true
   },
   "outputs": [],
   "source": [
    "## Now let's retrieve all the beers that are similar to \"Pliny The Elder\""
   ]
  },
  {
   "cell_type": "code",
   "execution_count": 63,
   "metadata": {},
   "outputs": [
    {
     "name": "stderr",
     "output_type": "stream",
     "text": [
      "C:\\ProgramData\\Anaconda3\\lib\\site-packages\\numpy\\lib\\function_base.py:2995: RuntimeWarning: Degrees of freedom <= 0 for slice\n",
      "  c = cov(x, y, rowvar)\n",
      "C:\\ProgramData\\Anaconda3\\lib\\site-packages\\numpy\\lib\\function_base.py:2929: RuntimeWarning: divide by zero encountered in double_scalars\n",
      "  c *= 1. / np.float64(fact)\n"
     ]
    },
    {
     "data": {
      "text/html": [
       "<div>\n",
       "<style>\n",
       "    .dataframe thead tr:only-child th {\n",
       "        text-align: right;\n",
       "    }\n",
       "\n",
       "    .dataframe thead th {\n",
       "        text-align: left;\n",
       "    }\n",
       "\n",
       "    .dataframe tbody tr th {\n",
       "        vertical-align: top;\n",
       "    }\n",
       "</style>\n",
       "<table border=\"1\" class=\"dataframe\">\n",
       "  <thead>\n",
       "    <tr style=\"text-align: right;\">\n",
       "      <th></th>\n",
       "      <th>Correlation</th>\n",
       "    </tr>\n",
       "    <tr>\n",
       "      <th>beer_name</th>\n",
       "      <th></th>\n",
       "    </tr>\n",
       "  </thead>\n",
       "  <tbody>\n",
       "    <tr>\n",
       "      <th>\"100\"</th>\n",
       "      <td>0.342997</td>\n",
       "    </tr>\n",
       "    <tr>\n",
       "      <th>\"400\" Ale</th>\n",
       "      <td>0.087586</td>\n",
       "    </tr>\n",
       "    <tr>\n",
       "      <th>\"76\" Anniversary Ale</th>\n",
       "      <td>-0.866025</td>\n",
       "    </tr>\n",
       "    <tr>\n",
       "      <th>\"Alt\"ered State</th>\n",
       "      <td>1.000000</td>\n",
       "    </tr>\n",
       "    <tr>\n",
       "      <th>\"Hop Obama\" Ale</th>\n",
       "      <td>0.269236</td>\n",
       "    </tr>\n",
       "  </tbody>\n",
       "</table>\n",
       "</div>"
      ],
      "text/plain": [
       "                      Correlation\n",
       "beer_name                        \n",
       "\"100\"                    0.342997\n",
       "\"400\" Ale                0.087586\n",
       "\"76\" Anniversary Ale    -0.866025\n",
       "\"Alt\"ered State          1.000000\n",
       "\"Hop Obama\" Ale          0.269236"
      ]
     },
     "execution_count": 63,
     "metadata": {},
     "output_type": "execute_result"
    }
   ],
   "source": [
    "beer_like_Pliny_Elder = beerdf2_pivot.corrwith(Pliny_Elder_reviews)\n",
    "\n",
    "corr_Pliny_Elder = pd.DataFrame(beer_like_Pliny_Elder, columns=['Correlation'])  \n",
    "corr_Pliny_Elder.dropna(inplace=True)  \n",
    "corr_Pliny_Elder.head()"
   ]
  },
  {
   "cell_type": "code",
   "execution_count": 64,
   "metadata": {
    "collapsed": true
   },
   "outputs": [],
   "source": [
    "## Let's sort the beers in descending order of correlation to see highly correlated beers at the top."
   ]
  },
  {
   "cell_type": "code",
   "execution_count": 65,
   "metadata": {},
   "outputs": [
    {
     "data": {
      "text/html": [
       "<div>\n",
       "<style>\n",
       "    .dataframe thead tr:only-child th {\n",
       "        text-align: right;\n",
       "    }\n",
       "\n",
       "    .dataframe thead th {\n",
       "        text-align: left;\n",
       "    }\n",
       "\n",
       "    .dataframe tbody tr th {\n",
       "        vertical-align: top;\n",
       "    }\n",
       "</style>\n",
       "<table border=\"1\" class=\"dataframe\">\n",
       "  <thead>\n",
       "    <tr style=\"text-align: right;\">\n",
       "      <th></th>\n",
       "      <th>Correlation</th>\n",
       "    </tr>\n",
       "    <tr>\n",
       "      <th>beer_name</th>\n",
       "      <th></th>\n",
       "    </tr>\n",
       "  </thead>\n",
       "  <tbody>\n",
       "    <tr>\n",
       "      <th>Three Rings Belgian-style Pale Ale</th>\n",
       "      <td>1.0</td>\n",
       "    </tr>\n",
       "    <tr>\n",
       "      <th>Monadnock Mountain Ale</th>\n",
       "      <td>1.0</td>\n",
       "    </tr>\n",
       "    <tr>\n",
       "      <th>Duckstein Rotblondes Weizen</th>\n",
       "      <td>1.0</td>\n",
       "    </tr>\n",
       "    <tr>\n",
       "      <th>Syrah Barrel La Trappistine With Brettanomyces</th>\n",
       "      <td>1.0</td>\n",
       "    </tr>\n",
       "    <tr>\n",
       "      <th>Sèv</th>\n",
       "      <td>1.0</td>\n",
       "    </tr>\n",
       "    <tr>\n",
       "      <th>Irseer Kloster-Urtrunk</th>\n",
       "      <td>1.0</td>\n",
       "    </tr>\n",
       "    <tr>\n",
       "      <th>Armadillo Amber</th>\n",
       "      <td>1.0</td>\n",
       "    </tr>\n",
       "    <tr>\n",
       "      <th>Pale Moon</th>\n",
       "      <td>1.0</td>\n",
       "    </tr>\n",
       "    <tr>\n",
       "      <th>Saison Gourmet</th>\n",
       "      <td>1.0</td>\n",
       "    </tr>\n",
       "    <tr>\n",
       "      <th>T'amère</th>\n",
       "      <td>1.0</td>\n",
       "    </tr>\n",
       "  </tbody>\n",
       "</table>\n",
       "</div>"
      ],
      "text/plain": [
       "                                                Correlation\n",
       "beer_name                                                  \n",
       "Three Rings Belgian-style Pale Ale                      1.0\n",
       "Monadnock Mountain Ale                                  1.0\n",
       "Duckstein Rotblondes Weizen                             1.0\n",
       "Syrah Barrel La Trappistine With Brettanomyces          1.0\n",
       "Sèv                                                     1.0\n",
       "Irseer Kloster-Urtrunk                                  1.0\n",
       "Armadillo Amber                                         1.0\n",
       "Pale Moon                                               1.0\n",
       "Saison Gourmet                                          1.0\n",
       "T'amère                                                 1.0"
      ]
     },
     "execution_count": 65,
     "metadata": {},
     "output_type": "execute_result"
    }
   ],
   "source": [
    "corr_Pliny_Elder.sort_values('Correlation', ascending=False).head(10)"
   ]
  },
  {
   "cell_type": "code",
   "execution_count": 66,
   "metadata": {
    "collapsed": true
   },
   "outputs": [],
   "source": [
    "## Retrieve only those correlated beers that have at least more than 300 reviews. To do so, will add the review_counts column from the rating_mean_count dataframe to our mean_overall_review_df dataframe. "
   ]
  },
  {
   "cell_type": "code",
   "execution_count": 67,
   "metadata": {},
   "outputs": [
    {
     "data": {
      "text/html": [
       "<div>\n",
       "<style>\n",
       "    .dataframe thead tr:only-child th {\n",
       "        text-align: right;\n",
       "    }\n",
       "\n",
       "    .dataframe thead th {\n",
       "        text-align: left;\n",
       "    }\n",
       "\n",
       "    .dataframe tbody tr th {\n",
       "        vertical-align: top;\n",
       "    }\n",
       "</style>\n",
       "<table border=\"1\" class=\"dataframe\">\n",
       "  <thead>\n",
       "    <tr style=\"text-align: right;\">\n",
       "      <th></th>\n",
       "      <th>Correlation</th>\n",
       "      <th>review_counts</th>\n",
       "    </tr>\n",
       "    <tr>\n",
       "      <th>beer_name</th>\n",
       "      <th></th>\n",
       "      <th></th>\n",
       "    </tr>\n",
       "  </thead>\n",
       "  <tbody>\n",
       "    <tr>\n",
       "      <th>\"100\"</th>\n",
       "      <td>0.342997</td>\n",
       "      <td>5</td>\n",
       "    </tr>\n",
       "    <tr>\n",
       "      <th>\"400\" Ale</th>\n",
       "      <td>0.087586</td>\n",
       "      <td>18</td>\n",
       "    </tr>\n",
       "    <tr>\n",
       "      <th>\"76\" Anniversary Ale</th>\n",
       "      <td>-0.866025</td>\n",
       "      <td>3</td>\n",
       "    </tr>\n",
       "    <tr>\n",
       "      <th>\"Alt\"ered State</th>\n",
       "      <td>1.000000</td>\n",
       "      <td>2</td>\n",
       "    </tr>\n",
       "    <tr>\n",
       "      <th>\"Hop Obama\" Ale</th>\n",
       "      <td>0.269236</td>\n",
       "      <td>28</td>\n",
       "    </tr>\n",
       "  </tbody>\n",
       "</table>\n",
       "</div>"
      ],
      "text/plain": [
       "                      Correlation  review_counts\n",
       "beer_name                                       \n",
       "\"100\"                    0.342997              5\n",
       "\"400\" Ale                0.087586             18\n",
       "\"76\" Anniversary Ale    -0.866025              3\n",
       "\"Alt\"ered State          1.000000              2\n",
       "\"Hop Obama\" Ale          0.269236             28"
      ]
     },
     "execution_count": 67,
     "metadata": {},
     "output_type": "execute_result"
    }
   ],
   "source": [
    "corr_Pliny_Elder = corr_Pliny_Elder.join(mean_overall_review_df['review_counts'])  \n",
    "corr_Pliny_Elder.head() "
   ]
  },
  {
   "cell_type": "code",
   "execution_count": 68,
   "metadata": {},
   "outputs": [
    {
     "data": {
      "text/html": [
       "<div>\n",
       "<style>\n",
       "    .dataframe thead tr:only-child th {\n",
       "        text-align: right;\n",
       "    }\n",
       "\n",
       "    .dataframe thead th {\n",
       "        text-align: left;\n",
       "    }\n",
       "\n",
       "    .dataframe tbody tr th {\n",
       "        vertical-align: top;\n",
       "    }\n",
       "</style>\n",
       "<table border=\"1\" class=\"dataframe\">\n",
       "  <thead>\n",
       "    <tr style=\"text-align: right;\">\n",
       "      <th></th>\n",
       "      <th>Correlation</th>\n",
       "      <th>review_counts</th>\n",
       "    </tr>\n",
       "    <tr>\n",
       "      <th>beer_name</th>\n",
       "      <th></th>\n",
       "      <th></th>\n",
       "    </tr>\n",
       "  </thead>\n",
       "  <tbody>\n",
       "    <tr>\n",
       "      <th>Pliny The Elder</th>\n",
       "      <td>1.000000</td>\n",
       "      <td>2527</td>\n",
       "    </tr>\n",
       "    <tr>\n",
       "      <th>Pliny The Younger</th>\n",
       "      <td>0.432710</td>\n",
       "      <td>610</td>\n",
       "    </tr>\n",
       "    <tr>\n",
       "      <th>Blind Pig IPA</th>\n",
       "      <td>0.376914</td>\n",
       "      <td>1141</td>\n",
       "    </tr>\n",
       "  </tbody>\n",
       "</table>\n",
       "</div>"
      ],
      "text/plain": [
       "                   Correlation  review_counts\n",
       "beer_name                                    \n",
       "Pliny The Elder       1.000000           2527\n",
       "Pliny The Younger     0.432710            610\n",
       "Blind Pig IPA         0.376914           1141"
      ]
     },
     "execution_count": 68,
     "metadata": {},
     "output_type": "execute_result"
    }
   ],
   "source": [
    "corr_Pliny_Elder[corr_Pliny_Elder ['review_counts']>300].sort_values('Correlation', ascending=False).head(3)"
   ]
  },
  {
   "cell_type": "markdown",
   "metadata": {},
   "source": [
    " ### Answer 2: Recommended Beers: Pliny The Elder, Pliny The Younger &  Blind Pig IPA"
   ]
  },
  {
   "cell_type": "code",
   "execution_count": 69,
   "metadata": {},
   "outputs": [
    {
     "data": {
      "text/plain": [
       "mean_review_overall       4.590028\n",
       "review_counts          2527.000000\n",
       "Name: Pliny The Elder, dtype: float64"
      ]
     },
     "execution_count": 69,
     "metadata": {},
     "output_type": "execute_result"
    }
   ],
   "source": [
    "mean_overall_review_df.loc['Pliny The Elder'] "
   ]
  },
  {
   "cell_type": "code",
   "execution_count": 70,
   "metadata": {},
   "outputs": [
    {
     "data": {
      "text/plain": [
       "mean_review_overall      4.6\n",
       "review_counts          610.0\n",
       "Name: Pliny The Younger, dtype: float64"
      ]
     },
     "execution_count": 70,
     "metadata": {},
     "output_type": "execute_result"
    }
   ],
   "source": [
    "mean_overall_review_df.loc['Pliny The Younger']"
   ]
  },
  {
   "cell_type": "code",
   "execution_count": 71,
   "metadata": {},
   "outputs": [
    {
     "data": {
      "text/plain": [
       "mean_review_overall       4.36021\n",
       "review_counts          1141.00000\n",
       "Name: Blind Pig IPA, dtype: float64"
      ]
     },
     "execution_count": 71,
     "metadata": {},
     "output_type": "execute_result"
    }
   ],
   "source": [
    "mean_overall_review_df.loc['Blind Pig IPA']"
   ]
  },
  {
   "cell_type": "markdown",
   "metadata": {},
   "source": [
    "### Q3. Which of the factors (aroma, taste, appearance, palette) are most important in determining the overall quality of a beer?"
   ]
  },
  {
   "cell_type": "code",
   "execution_count": 72,
   "metadata": {
    "collapsed": true
   },
   "outputs": [],
   "source": [
    "beerdf3 = beerdf1[[\"review_overall\", \"review_aroma\", \"review_appearance\", \"review_palate\", \"review_taste\"]]"
   ]
  },
  {
   "cell_type": "code",
   "execution_count": 73,
   "metadata": {},
   "outputs": [
    {
     "data": {
      "text/html": [
       "<div>\n",
       "<style>\n",
       "    .dataframe thead tr:only-child th {\n",
       "        text-align: right;\n",
       "    }\n",
       "\n",
       "    .dataframe thead th {\n",
       "        text-align: left;\n",
       "    }\n",
       "\n",
       "    .dataframe tbody tr th {\n",
       "        vertical-align: top;\n",
       "    }\n",
       "</style>\n",
       "<table border=\"1\" class=\"dataframe\">\n",
       "  <thead>\n",
       "    <tr style=\"text-align: right;\">\n",
       "      <th></th>\n",
       "      <th>review_overall</th>\n",
       "      <th>review_aroma</th>\n",
       "      <th>review_appearance</th>\n",
       "      <th>review_palate</th>\n",
       "      <th>review_taste</th>\n",
       "    </tr>\n",
       "  </thead>\n",
       "  <tbody>\n",
       "    <tr>\n",
       "      <th>review_overall</th>\n",
       "      <td>1.000000</td>\n",
       "      <td>0.616013</td>\n",
       "      <td>0.501732</td>\n",
       "      <td>0.701914</td>\n",
       "      <td>0.789816</td>\n",
       "    </tr>\n",
       "    <tr>\n",
       "      <th>review_aroma</th>\n",
       "      <td>0.616013</td>\n",
       "      <td>1.000000</td>\n",
       "      <td>0.561029</td>\n",
       "      <td>0.616947</td>\n",
       "      <td>0.716776</td>\n",
       "    </tr>\n",
       "    <tr>\n",
       "      <th>review_appearance</th>\n",
       "      <td>0.501732</td>\n",
       "      <td>0.561029</td>\n",
       "      <td>1.000000</td>\n",
       "      <td>0.566634</td>\n",
       "      <td>0.546980</td>\n",
       "    </tr>\n",
       "    <tr>\n",
       "      <th>review_palate</th>\n",
       "      <td>0.701914</td>\n",
       "      <td>0.616947</td>\n",
       "      <td>0.566634</td>\n",
       "      <td>1.000000</td>\n",
       "      <td>0.734135</td>\n",
       "    </tr>\n",
       "    <tr>\n",
       "      <th>review_taste</th>\n",
       "      <td>0.789816</td>\n",
       "      <td>0.716776</td>\n",
       "      <td>0.546980</td>\n",
       "      <td>0.734135</td>\n",
       "      <td>1.000000</td>\n",
       "    </tr>\n",
       "  </tbody>\n",
       "</table>\n",
       "</div>"
      ],
      "text/plain": [
       "                   review_overall  review_aroma  review_appearance  \\\n",
       "review_overall           1.000000      0.616013           0.501732   \n",
       "review_aroma             0.616013      1.000000           0.561029   \n",
       "review_appearance        0.501732      0.561029           1.000000   \n",
       "review_palate            0.701914      0.616947           0.566634   \n",
       "review_taste             0.789816      0.716776           0.546980   \n",
       "\n",
       "                   review_palate  review_taste  \n",
       "review_overall          0.701914      0.789816  \n",
       "review_aroma            0.616947      0.716776  \n",
       "review_appearance       0.566634      0.546980  \n",
       "review_palate           1.000000      0.734135  \n",
       "review_taste            0.734135      1.000000  "
      ]
     },
     "execution_count": 73,
     "metadata": {},
     "output_type": "execute_result"
    }
   ],
   "source": [
    "beerdf3.corr()"
   ]
  },
  {
   "cell_type": "markdown",
   "metadata": {},
   "source": [
    "##### Taste is the most important factor  as it is highly correlated with overall review of the beer. ( we are assuming that Quality is directly proportion to Overall_review)"
   ]
  },
  {
   "cell_type": "markdown",
   "metadata": {},
   "source": [
    "### Q4: Lastly, if I typically enjoy a beer due to its aroma and appearance, which beer style should I try?"
   ]
  },
  {
   "cell_type": "code",
   "execution_count": 74,
   "metadata": {
    "collapsed": true
   },
   "outputs": [],
   "source": [
    "# Lets create subset of dataframe"
   ]
  },
  {
   "cell_type": "code",
   "execution_count": 75,
   "metadata": {},
   "outputs": [],
   "source": [
    "beer_styledf = beerdf1[['review_aroma', 'review_appearance', 'beer_style']]"
   ]
  },
  {
   "cell_type": "code",
   "execution_count": 76,
   "metadata": {},
   "outputs": [
    {
     "data": {
      "text/html": [
       "<div>\n",
       "<style>\n",
       "    .dataframe thead tr:only-child th {\n",
       "        text-align: right;\n",
       "    }\n",
       "\n",
       "    .dataframe thead th {\n",
       "        text-align: left;\n",
       "    }\n",
       "\n",
       "    .dataframe tbody tr th {\n",
       "        vertical-align: top;\n",
       "    }\n",
       "</style>\n",
       "<table border=\"1\" class=\"dataframe\">\n",
       "  <thead>\n",
       "    <tr style=\"text-align: right;\">\n",
       "      <th></th>\n",
       "      <th>review_aroma</th>\n",
       "      <th>review_appearance</th>\n",
       "      <th>beer_style</th>\n",
       "    </tr>\n",
       "  </thead>\n",
       "  <tbody>\n",
       "    <tr>\n",
       "      <th>0</th>\n",
       "      <td>2.0</td>\n",
       "      <td>2.5</td>\n",
       "      <td>Hefeweizen</td>\n",
       "    </tr>\n",
       "    <tr>\n",
       "      <th>1</th>\n",
       "      <td>2.5</td>\n",
       "      <td>3.0</td>\n",
       "      <td>English Strong Ale</td>\n",
       "    </tr>\n",
       "    <tr>\n",
       "      <th>2</th>\n",
       "      <td>2.5</td>\n",
       "      <td>3.0</td>\n",
       "      <td>Foreign / Export Stout</td>\n",
       "    </tr>\n",
       "    <tr>\n",
       "      <th>3</th>\n",
       "      <td>3.0</td>\n",
       "      <td>3.5</td>\n",
       "      <td>German Pilsener</td>\n",
       "    </tr>\n",
       "    <tr>\n",
       "      <th>4</th>\n",
       "      <td>4.5</td>\n",
       "      <td>4.0</td>\n",
       "      <td>American Double / Imperial IPA</td>\n",
       "    </tr>\n",
       "  </tbody>\n",
       "</table>\n",
       "</div>"
      ],
      "text/plain": [
       "   review_aroma  review_appearance                      beer_style\n",
       "0           2.0                2.5                      Hefeweizen\n",
       "1           2.5                3.0              English Strong Ale\n",
       "2           2.5                3.0          Foreign / Export Stout\n",
       "3           3.0                3.5                 German Pilsener\n",
       "4           4.5                4.0  American Double / Imperial IPA"
      ]
     },
     "execution_count": 76,
     "metadata": {},
     "output_type": "execute_result"
    }
   ],
   "source": [
    "beer_styledf.head()"
   ]
  },
  {
   "cell_type": "code",
   "execution_count": 77,
   "metadata": {
    "collapsed": true
   },
   "outputs": [],
   "source": [
    "##Take Average of Aroma Review and Appearance review"
   ]
  },
  {
   "cell_type": "code",
   "execution_count": 78,
   "metadata": {},
   "outputs": [
    {
     "name": "stderr",
     "output_type": "stream",
     "text": [
      "C:\\ProgramData\\Anaconda3\\lib\\site-packages\\ipykernel_launcher.py:1: SettingWithCopyWarning: \n",
      "A value is trying to be set on a copy of a slice from a DataFrame.\n",
      "Try using .loc[row_indexer,col_indexer] = value instead\n",
      "\n",
      "See the caveats in the documentation: http://pandas.pydata.org/pandas-docs/stable/indexing.html#indexing-view-versus-copy\n",
      "  \"\"\"Entry point for launching an IPython kernel.\n"
     ]
    }
   ],
   "source": [
    "beer_styledf['average_aroma_appearance'] = (beer_styledf.review_aroma + beer_styledf.review_appearance)/2"
   ]
  },
  {
   "cell_type": "code",
   "execution_count": 79,
   "metadata": {
    "collapsed": true
   },
   "outputs": [],
   "source": [
    "beer_styledf = beer_styledf[['beer_style', 'review_aroma', 'review_appearance', 'average_aroma_appearance']]"
   ]
  },
  {
   "cell_type": "code",
   "execution_count": 80,
   "metadata": {},
   "outputs": [
    {
     "data": {
      "text/html": [
       "<div>\n",
       "<style>\n",
       "    .dataframe thead tr:only-child th {\n",
       "        text-align: right;\n",
       "    }\n",
       "\n",
       "    .dataframe thead th {\n",
       "        text-align: left;\n",
       "    }\n",
       "\n",
       "    .dataframe tbody tr th {\n",
       "        vertical-align: top;\n",
       "    }\n",
       "</style>\n",
       "<table border=\"1\" class=\"dataframe\">\n",
       "  <thead>\n",
       "    <tr style=\"text-align: right;\">\n",
       "      <th></th>\n",
       "      <th>beer_style</th>\n",
       "      <th>review_aroma</th>\n",
       "      <th>review_appearance</th>\n",
       "      <th>average_aroma_appearance</th>\n",
       "    </tr>\n",
       "  </thead>\n",
       "  <tbody>\n",
       "    <tr>\n",
       "      <th>0</th>\n",
       "      <td>Hefeweizen</td>\n",
       "      <td>2.0</td>\n",
       "      <td>2.5</td>\n",
       "      <td>2.25</td>\n",
       "    </tr>\n",
       "    <tr>\n",
       "      <th>1</th>\n",
       "      <td>English Strong Ale</td>\n",
       "      <td>2.5</td>\n",
       "      <td>3.0</td>\n",
       "      <td>2.75</td>\n",
       "    </tr>\n",
       "    <tr>\n",
       "      <th>2</th>\n",
       "      <td>Foreign / Export Stout</td>\n",
       "      <td>2.5</td>\n",
       "      <td>3.0</td>\n",
       "      <td>2.75</td>\n",
       "    </tr>\n",
       "    <tr>\n",
       "      <th>3</th>\n",
       "      <td>German Pilsener</td>\n",
       "      <td>3.0</td>\n",
       "      <td>3.5</td>\n",
       "      <td>3.25</td>\n",
       "    </tr>\n",
       "    <tr>\n",
       "      <th>4</th>\n",
       "      <td>American Double / Imperial IPA</td>\n",
       "      <td>4.5</td>\n",
       "      <td>4.0</td>\n",
       "      <td>4.25</td>\n",
       "    </tr>\n",
       "  </tbody>\n",
       "</table>\n",
       "</div>"
      ],
      "text/plain": [
       "                       beer_style  review_aroma  review_appearance  \\\n",
       "0                      Hefeweizen           2.0                2.5   \n",
       "1              English Strong Ale           2.5                3.0   \n",
       "2          Foreign / Export Stout           2.5                3.0   \n",
       "3                 German Pilsener           3.0                3.5   \n",
       "4  American Double / Imperial IPA           4.5                4.0   \n",
       "\n",
       "   average_aroma_appearance  \n",
       "0                      2.25  \n",
       "1                      2.75  \n",
       "2                      2.75  \n",
       "3                      3.25  \n",
       "4                      4.25  "
      ]
     },
     "execution_count": 80,
     "metadata": {},
     "output_type": "execute_result"
    }
   ],
   "source": [
    "beer_styledf.head()"
   ]
  },
  {
   "cell_type": "code",
   "execution_count": 81,
   "metadata": {
    "collapsed": true
   },
   "outputs": [],
   "source": [
    "#### Take mean vakues of rating for each bear and sort from high to low."
   ]
  },
  {
   "cell_type": "code",
   "execution_count": 82,
   "metadata": {},
   "outputs": [],
   "source": [
    "beer_styledf_agg = beer_styledf.groupby('beer_style')[['review_aroma', 'review_appearance', 'average_aroma_appearance' ]].mean().sort_values(by='average_aroma_appearance', ascending=False)[:10]"
   ]
  },
  {
   "cell_type": "code",
   "execution_count": 83,
   "metadata": {},
   "outputs": [
    {
     "data": {
      "text/html": [
       "<div>\n",
       "<style>\n",
       "    .dataframe thead tr:only-child th {\n",
       "        text-align: right;\n",
       "    }\n",
       "\n",
       "    .dataframe thead th {\n",
       "        text-align: left;\n",
       "    }\n",
       "\n",
       "    .dataframe tbody tr th {\n",
       "        vertical-align: top;\n",
       "    }\n",
       "</style>\n",
       "<table border=\"1\" class=\"dataframe\">\n",
       "  <thead>\n",
       "    <tr style=\"text-align: right;\">\n",
       "      <th></th>\n",
       "      <th>review_aroma</th>\n",
       "      <th>review_appearance</th>\n",
       "      <th>average_aroma_appearance</th>\n",
       "    </tr>\n",
       "    <tr>\n",
       "      <th>beer_style</th>\n",
       "      <th></th>\n",
       "      <th></th>\n",
       "      <th></th>\n",
       "    </tr>\n",
       "  </thead>\n",
       "  <tbody>\n",
       "    <tr>\n",
       "      <th>American Double / Imperial Stout</th>\n",
       "      <td>4.160665</td>\n",
       "      <td>4.163633</td>\n",
       "      <td>4.162149</td>\n",
       "    </tr>\n",
       "    <tr>\n",
       "      <th>Russian Imperial Stout</th>\n",
       "      <td>4.076576</td>\n",
       "      <td>4.210072</td>\n",
       "      <td>4.143324</td>\n",
       "    </tr>\n",
       "    <tr>\n",
       "      <th>Quadrupel (Quad)</th>\n",
       "      <td>4.132533</td>\n",
       "      <td>4.117964</td>\n",
       "      <td>4.125249</td>\n",
       "    </tr>\n",
       "    <tr>\n",
       "      <th>American Double / Imperial IPA</th>\n",
       "      <td>4.097782</td>\n",
       "      <td>4.078916</td>\n",
       "      <td>4.088349</td>\n",
       "    </tr>\n",
       "    <tr>\n",
       "      <th>Gueuze</th>\n",
       "      <td>4.117574</td>\n",
       "      <td>4.034864</td>\n",
       "      <td>4.076219</td>\n",
       "    </tr>\n",
       "    <tr>\n",
       "      <th>American Wild Ale</th>\n",
       "      <td>4.126756</td>\n",
       "      <td>4.005451</td>\n",
       "      <td>4.066104</td>\n",
       "    </tr>\n",
       "    <tr>\n",
       "      <th>Eisbock</th>\n",
       "      <td>4.156778</td>\n",
       "      <td>3.964514</td>\n",
       "      <td>4.060646</td>\n",
       "    </tr>\n",
       "    <tr>\n",
       "      <th>American Barleywine</th>\n",
       "      <td>4.019343</td>\n",
       "      <td>4.036535</td>\n",
       "      <td>4.027939</td>\n",
       "    </tr>\n",
       "    <tr>\n",
       "      <th>Belgian IPA</th>\n",
       "      <td>3.979753</td>\n",
       "      <td>4.075214</td>\n",
       "      <td>4.027484</td>\n",
       "    </tr>\n",
       "    <tr>\n",
       "      <th>Weizenbock</th>\n",
       "      <td>4.044677</td>\n",
       "      <td>4.009297</td>\n",
       "      <td>4.026987</td>\n",
       "    </tr>\n",
       "  </tbody>\n",
       "</table>\n",
       "</div>"
      ],
      "text/plain": [
       "                                  review_aroma  review_appearance  \\\n",
       "beer_style                                                          \n",
       "American Double / Imperial Stout      4.160665           4.163633   \n",
       "Russian Imperial Stout                4.076576           4.210072   \n",
       "Quadrupel (Quad)                      4.132533           4.117964   \n",
       "American Double / Imperial IPA        4.097782           4.078916   \n",
       "Gueuze                                4.117574           4.034864   \n",
       "American Wild Ale                     4.126756           4.005451   \n",
       "Eisbock                               4.156778           3.964514   \n",
       "American Barleywine                   4.019343           4.036535   \n",
       "Belgian IPA                           3.979753           4.075214   \n",
       "Weizenbock                            4.044677           4.009297   \n",
       "\n",
       "                                  average_aroma_appearance  \n",
       "beer_style                                                  \n",
       "American Double / Imperial Stout                  4.162149  \n",
       "Russian Imperial Stout                            4.143324  \n",
       "Quadrupel (Quad)                                  4.125249  \n",
       "American Double / Imperial IPA                    4.088349  \n",
       "Gueuze                                            4.076219  \n",
       "American Wild Ale                                 4.066104  \n",
       "Eisbock                                           4.060646  \n",
       "American Barleywine                               4.027939  \n",
       "Belgian IPA                                       4.027484  \n",
       "Weizenbock                                        4.026987  "
      ]
     },
     "execution_count": 83,
     "metadata": {},
     "output_type": "execute_result"
    }
   ],
   "source": [
    "beer_styledf_agg"
   ]
  },
  {
   "cell_type": "markdown",
   "metadata": {},
   "source": [
    "##### Table shown above clearly indicates American Double / Imperial Stout with highest overall rating. However, scatterplot and pair plot can be  analyzed prior to making solution. "
   ]
  },
  {
   "cell_type": "code",
   "execution_count": 84,
   "metadata": {},
   "outputs": [
    {
     "data": {
      "image/png": "[encoded data removed]",
      "text/plain": [
       "<matplotlib.figure.Figure at 0x22501fb8438>"
      ]
     },
     "metadata": {},
     "output_type": "display_data"
    }
   ],
   "source": [
    "g = sns.jointplot(x='review_aroma', y='review_appearance', data=beer_styledf_agg, color=\"r\", alpha=0.4, marker = 's')"
   ]
  },
  {
   "cell_type": "code",
   "execution_count": 85,
   "metadata": {},
   "outputs": [
    {
     "data": {
      "text/plain": [
       "<seaborn.axisgrid.PairGrid at 0x22501fb0a58>"
      ]
     },
     "execution_count": 85,
     "metadata": {},
     "output_type": "execute_result"
    },
    {
     "data": {
      "image/png": "[encoded data removed]",
      "text/plain": [
       "<matplotlib.figure.Figure at 0x22501fb0f60>"
      ]
     },
     "metadata": {},
     "output_type": "display_data"
    }
   ],
   "source": [
    "sns.pairplot(beer_styledf_agg)"
   ]
  },
  {
   "cell_type": "code",
   "execution_count": 86,
   "metadata": {},
   "outputs": [
    {
     "data": {
      "text/html": [
       "<div>\n",
       "<style>\n",
       "    .dataframe thead tr:only-child th {\n",
       "        text-align: right;\n",
       "    }\n",
       "\n",
       "    .dataframe thead th {\n",
       "        text-align: left;\n",
       "    }\n",
       "\n",
       "    .dataframe tbody tr th {\n",
       "        vertical-align: top;\n",
       "    }\n",
       "</style>\n",
       "<table border=\"1\" class=\"dataframe\">\n",
       "  <thead>\n",
       "    <tr style=\"text-align: right;\">\n",
       "      <th></th>\n",
       "      <th>review_aroma</th>\n",
       "      <th>review_appearance</th>\n",
       "      <th>average_aroma_appearance</th>\n",
       "    </tr>\n",
       "  </thead>\n",
       "  <tbody>\n",
       "    <tr>\n",
       "      <th>review_aroma</th>\n",
       "      <td>1.000000</td>\n",
       "      <td>0.024317</td>\n",
       "      <td>0.633060</td>\n",
       "    </tr>\n",
       "    <tr>\n",
       "      <th>review_appearance</th>\n",
       "      <td>0.024317</td>\n",
       "      <td>1.000000</td>\n",
       "      <td>0.789268</td>\n",
       "    </tr>\n",
       "    <tr>\n",
       "      <th>average_aroma_appearance</th>\n",
       "      <td>0.633060</td>\n",
       "      <td>0.789268</td>\n",
       "      <td>1.000000</td>\n",
       "    </tr>\n",
       "  </tbody>\n",
       "</table>\n",
       "</div>"
      ],
      "text/plain": [
       "                          review_aroma  review_appearance  \\\n",
       "review_aroma                  1.000000           0.024317   \n",
       "review_appearance             0.024317           1.000000   \n",
       "average_aroma_appearance      0.633060           0.789268   \n",
       "\n",
       "                          average_aroma_appearance  \n",
       "review_aroma                              0.633060  \n",
       "review_appearance                         0.789268  \n",
       "average_aroma_appearance                  1.000000  "
      ]
     },
     "execution_count": 86,
     "metadata": {},
     "output_type": "execute_result"
    }
   ],
   "source": [
    "beer_styledf_agg.corr()"
   ]
  },
  {
   "cell_type": "markdown",
   "metadata": {},
   "source": [
    "### Answer 4: Reccomended beer_style based on aroma and appearance is:  American Double / Imperial Stout\t"
   ]
  }
 ],
 "metadata": {
  "kernelspec": {
   "display_name": "Python 3",
   "language": "python",
   "name": "python3"
  },
  "language_info": {
   "codemirror_mode": {
    "name": "ipython",
    "version": 3
   },
   "file_extension": ".py",
   "mimetype": "text/x-python",
   "name": "python",
   "nbconvert_exporter": "python",
   "pygments_lexer": "ipython3",
   "version": "3.6.1"
  }
 },
 "nbformat": 4,
 "nbformat_minor": 2
}
